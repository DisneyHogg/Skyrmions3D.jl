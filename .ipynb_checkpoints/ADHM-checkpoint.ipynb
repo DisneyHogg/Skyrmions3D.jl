{
 "cells": [
  {
   "cell_type": "code",
   "execution_count": 1,
   "id": "3977514e",
   "metadata": {},
   "outputs": [],
   "source": [
    "using Revise\n",
    "using BenchmarkTools\n",
    "\n"
   ]
  },
  {
   "cell_type": "code",
   "execution_count": 2,
   "id": "08f643ca",
   "metadata": {},
   "outputs": [
    {
     "name": "stdout",
     "output_type": "stream",
     "text": [
      "/Users/chris/.julia/dev\n"
     ]
    }
   ],
   "source": [
    ";cd '~'/.julia/dev"
   ]
  },
  {
   "cell_type": "code",
   "execution_count": 3,
   "id": "44d36f23",
   "metadata": {},
   "outputs": [
    {
     "name": "stderr",
     "output_type": "stream",
     "text": [
      "\u001b[32m\u001b[1m   Resolving\u001b[22m\u001b[39m package versions...\n",
      "\u001b[32m\u001b[1m  No Changes\u001b[22m\u001b[39m to `~/.julia/environments/v1.8/Project.toml`\n",
      "\u001b[32m\u001b[1m  No Changes\u001b[22m\u001b[39m to `~/.julia/environments/v1.8/Manifest.toml`\n"
     ]
    }
   ],
   "source": [
    "]dev './Skyrmions'"
   ]
  },
  {
   "cell_type": "code",
   "execution_count": 203,
   "id": "3b52e893",
   "metadata": {},
   "outputs": [],
   "source": [
    "using Skyrmions"
   ]
  },
  {
   "cell_type": "code",
   "execution_count": 207,
   "id": "fecd82dc",
   "metadata": {},
   "outputs": [],
   "source": [
    "B4skyrmion = Skyrmion(40,0.2);\n",
    "\n",
    "p4(z) = z^4 + 2.0*sqrt(3.0)*im*z^2 + 2.0\n",
    "q4(z) = z^4 - 2.0*sqrt(3.0)*im*z^2 + 1.0\n",
    "f4(r) = pi*exp( -(r.^3)./12.0 )\n",
    "\n",
    "\n",
    "makeRM!( B4skyrmion, f4, p4, q4 )"
   ]
  },
  {
   "cell_type": "code",
   "execution_count": 208,
   "id": "12ebd406",
   "metadata": {},
   "outputs": [
    {
     "data": {
      "text/plain": [
       "GLMakie.Screen(...)"
      ]
     },
     "execution_count": 208,
     "metadata": {},
     "output_type": "execute_result"
    }
   ],
   "source": [
    "display(plot_baryon_density(B4skyrmion, iso_value=1.0)) "
   ]
  },
  {
   "cell_type": "code",
   "execution_count": 202,
   "id": "c3980407",
   "metadata": {},
   "outputs": [
    {
     "data": {
      "text/plain": [
       "3.963565768952452"
      ]
     },
     "execution_count": 202,
     "metadata": {},
     "output_type": "execute_result"
    }
   ],
   "source": [
    "sum(Baryon(B4skyrmion))*0.3^3/(2pi^2)\n"
   ]
  },
  {
   "cell_type": "code",
   "execution_count": 123,
   "id": "3ef4c93a",
   "metadata": {},
   "outputs": [
    {
     "ename": "LoadError",
     "evalue": "UndefVarError: lp not defined",
     "output_type": "error",
     "traceback": [
      "UndefVarError: lp not defined",
      "",
      "Stacktrace:",
      " [1] top-level scope",
      "   @ ./In[123]:1"
     ]
    }
   ],
   "source": [
    "flow!(B4skyrmion, 1.0)"
   ]
  },
  {
   "cell_type": "code",
   "execution_count": 176,
   "id": "c2ef520a",
   "metadata": {},
   "outputs": [],
   "source": []
  },
  {
   "cell_type": "code",
   "execution_count": 209,
   "id": "d6fae47d",
   "metadata": {},
   "outputs": [],
   "source": [
    "an_ADHM_skyrmion = Skyrmion(30,0.3);\n",
    "\n",
    "\n",
    "λ=1.0;\n",
    "\n",
    "LQ[1,1] = sqrt(2.0).*quat(λ, 0.0, 0.0, 0.0);    LQ[1,2] = sqrt(2.0).*quat(0.0, 0.0, 0.0, λ)\n",
    "\n",
    "MQ[1,1] = λ*quat(0.0, 1.0, 0.0, 0.0);     MQ[1,2] = λ*quat(0.0, 0.0, 1.0, 0.0)\n",
    "MQ[2,1] = λ*quat(0.0, 0.0, 1.0, 0.0);     MQ[2,2] = λ*quat(0.0, -1.0, 0.0, 0.0)\n",
    "\n",
    "\n",
    "makeADHM!(an_ADHM_skyrmion, LQ, MQ, 2)"
   ]
  },
  {
   "cell_type": "code",
   "execution_count": 197,
   "id": "c84fdb3b",
   "metadata": {},
   "outputs": [
    {
     "data": {
      "text/plain": [
       "GLMakie.Screen(...)"
      ]
     },
     "execution_count": 197,
     "metadata": {},
     "output_type": "execute_result"
    }
   ],
   "source": [
    "display(plot_baryon_density(an_ADHM_skyrmion, iso_value=1.5)) \n",
    "\n",
    "\n",
    "\n",
    "\n"
   ]
  },
  {
   "cell_type": "code",
   "execution_count": null,
   "id": "397d75fe",
   "metadata": {},
   "outputs": [],
   "source": []
  },
  {
   "cell_type": "code",
   "execution_count": 175,
   "id": "05c3ab5f",
   "metadata": {},
   "outputs": [
    {
     "data": {
      "text/plain": [
       "ADHMpt (generic function with 2 methods)"
      ]
     },
     "execution_count": 175,
     "metadata": {},
     "output_type": "execute_result"
    }
   ],
   "source": [
    "function makeADHM!( an_ADHM_skyrmion, LQ, MQ, B)\n",
    "    \n",
    "    lp, x = an_ADHM_skyrmion.lp, an_ADHM_skyrmion.x\n",
    "    \n",
    "    MmdyspQ = Matrix{QuaternionF64}(undef,B,B)\n",
    "    ysQ = Vector{QuaternionF64}(undef,B)\n",
    "    \n",
    "    for i in 1:lp[1], j in 1:lp[2], k in 1:lp[3]\n",
    "\n",
    "        Skpt = ADHMpt(LQ,MQ,[x[1][i],x[2][j],x[3][k]] ,ysQ, MmdyspQ, B)\n",
    "        #if k % 10 == 0; println(Skpt); end\n",
    "        an_ADHM_skyrmion.phi[i,j,k,:] .= [imag_part(Skpt)[1], imag_part(Skpt)[2], imag_part(Skpt)[3], real(Skpt) ]\n",
    "    \n",
    "    end\n",
    "    \n",
    "end\n",
    "    \n",
    "\n",
    "\n",
    "function ADHMpt(L,M,y,ysQ,MmdyspQ,B)\n",
    "\n",
    "    U = quat(1.0,0.0,0,0)\n",
    "    δt = 0.2\n",
    "\n",
    "    t = -10.0\n",
    "\n",
    "    for tint in 1:100\n",
    "        \n",
    "        \n",
    "\n",
    "        v0 = NfyQ(L,M,B,quat(t,y[1],y[2],y[3]), ysQ, MmdyspQ )\n",
    "        vp = NfyQ(L,M,B,quat(t + δt,y[1],y[2],y[3]), ysQ, MmdyspQ       )\n",
    "\n",
    "        U *= (vp')*v0\n",
    "\n",
    "        t += δt\n",
    "    end\n",
    "    \n",
    "    return U\n",
    "\n",
    "end\n",
    "\n",
    "    "
   ]
  },
  {
   "cell_type": "code",
   "execution_count": 12,
   "id": "5ce15e40",
   "metadata": {},
   "outputs": [],
   "source": [
    "using Quaternions\n",
    "using LinearAlgebra"
   ]
  },
  {
   "cell_type": "code",
   "execution_count": 1,
   "id": "8c85939a",
   "metadata": {},
   "outputs": [
    {
     "ename": "LoadError",
     "evalue": "UndefVarError: QuaternionF64 not defined",
     "output_type": "error",
     "traceback": [
      "UndefVarError: QuaternionF64 not defined",
      "",
      "Stacktrace:",
      " [1] top-level scope",
      "   @ In[1]:3"
     ]
    }
   ],
   "source": [
    "B = 2\n",
    "\n",
    "ΔQ = Matrix{QuaternionF64}(undef,B+1,B)\n",
    "LQ = Matrix{QuaternionF64}(undef,1,B)\n",
    "MQ = Matrix{QuaternionF64}(undef,B,B)\n",
    "MmdyspQ = Matrix{QuaternionF64}(undef,B,B)\n",
    "NαQ = Vector{QuaternionF64}(undef,B+1)\n",
    "ysQ = Vector{QuaternionF64}(undef,B)\n",
    "\n",
    "λ=1.0;\n",
    "\n",
    "LQ[1,1] = sqrt(2.0).*quat(λ, 0.0, 0.0, 0.0);    LQ[1,2] = sqrt(2.0).*quat(0.0, 0.0, 0.0, λ)\n",
    "\n",
    "MQ[1,1] = λ*quat(0.0, 1.0, 0.0, 0.0);     MQ[1,2] = λ*quat(0.0, 0.0, 1.0, 0.0)\n",
    "MQ[2,1] = λ*quat(0.0, 0.0, 1.0, 0.0);     MQ[2,2] = λ*quat(0.0, -1.0, 0.0, 0.0)\n",
    "\n",
    "\n",
    "#=\n",
    "L = zeros(B,4)\n",
    "M = zeros(B,B,4)\n",
    "\n",
    "L[1,:] = sqrt(2.0).*[1.0, 0.0, 0.0, 0.0]\n",
    "L[2,:] = sqrt(2.0).*[0.0, 0.0, 0.0, 1.0]\n",
    "\n",
    "M[1,1,:] = [0.0, 1.0, 0.0, 0.0]\n",
    "M[1,2,:] = [0.0, 0.0, 1.0, 0.0]\n",
    "M[2,1,:] = [0.0, 0.0, 1.0, 0.0]\n",
    "M[2,2,:] = [0.0, -1.0, 0.0, 0.0]\n",
    "        =#\n",
    "\n",
    "\n"
   ]
  },
  {
   "cell_type": "code",
   "execution_count": 2,
   "id": "cfd9dc8e",
   "metadata": {},
   "outputs": [
    {
     "ename": "LoadError",
     "evalue": "UndefVarError: ADHMpt not defined",
     "output_type": "error",
     "traceback": [
      "UndefVarError: ADHMpt not defined",
      "",
      "Stacktrace:",
      " [1] top-level scope",
      "   @ In[2]:1"
     ]
    }
   ],
   "source": [
    "ADHMpt(LQ,MQ,[0.2,0.1,4.0],ysQ,MmdyspQ)"
   ]
  },
  {
   "cell_type": "code",
   "execution_count": 104,
   "id": "230fc765",
   "metadata": {},
   "outputs": [
    {
     "data": {
      "text/plain": [
       "QuaternionF64(0.942265420611073, 0.00033771908989382074, 0.00045029211985842606, 0.31407945607945303)"
      ]
     },
     "execution_count": 104,
     "metadata": {},
     "output_type": "execute_result"
    }
   ],
   "source": [
    "ADHMpt(LQ,MQ,[0.2,0.1,4.0],ysQ,MmdyspQ)"
   ]
  },
  {
   "cell_type": "code",
   "execution_count": 106,
   "id": "db43cf71",
   "metadata": {},
   "outputs": [],
   "source": [
    "using StaticArrays"
   ]
  },
  {
   "cell_type": "code",
   "execution_count": 114,
   "id": "41979d0d",
   "metadata": {},
   "outputs": [
    {
     "data": {
      "text/plain": [
       "4-element SVector{4, Float64} with indices SOneTo(4):\n",
       " 0.0\n",
       " 0.0\n",
       " 0.0\n",
       " 0.0"
      ]
     },
     "execution_count": 114,
     "metadata": {},
     "output_type": "execute_result"
    }
   ],
   "source": [
    "q1 = @SVector zeros(4)\n",
    "\n",
    "t\n"
   ]
  },
  {
   "cell_type": "code",
   "execution_count": 98,
   "id": "9cba5cb2",
   "metadata": {},
   "outputs": [
    {
     "data": {
      "text/plain": [
       "3×4 Matrix{Float64}:\n",
       " 0.885886   0.0         0.0          0.0\n",
       " 0.145981   0.0126803   0.00653297   0.316621\n",
       " 0.304743  -0.00591592  0.0122175   -0.0197532"
      ]
     },
     "execution_count": 98,
     "metadata": {},
     "output_type": "execute_result"
    }
   ],
   "source": [
    "\n",
    "\n",
    "Nfy!(Nα,L,M,[0.3,0.2,0.1,4.0],Mmdysp,p,B)\n",
    "Nα"
   ]
  },
  {
   "cell_type": "code",
   "execution_count": 26,
   "id": "60e239f2",
   "metadata": {},
   "outputs": [
    {
     "data": {
      "text/plain": [
       "QuaternionF64(0.0, -1.0, 0.0, 0.0)"
      ]
     },
     "execution_count": 26,
     "metadata": {},
     "output_type": "execute_result"
    }
   ],
   "source": []
  },
  {
   "cell_type": "code",
   "execution_count": 52,
   "id": "4da5e8ac",
   "metadata": {},
   "outputs": [
    {
     "data": {
      "text/plain": [
       "makeRnmQ (generic function with 1 method)"
      ]
     },
     "execution_count": 52,
     "metadata": {},
     "output_type": "execute_result"
    }
   ],
   "source": [
    "\n",
    "function ADHMpt(L,M,y,ysQ,MmdyspQ,B)\n",
    "\n",
    "    U = quat(1.0,0.0,0,0)\n",
    "    δt = 0.2\n",
    "\n",
    "    t = -10.0\n",
    "\n",
    "    for tint in 1:100\n",
    "\n",
    "        v0 = NfyQ(L,M,B,quat(t,y[1],y[2],y[3]), ysQ, MmdyspQ )\n",
    "        vp = NfyQ(L,M,B,quat(t + δt,y[1],y[2],y[3]), ysQ, MmdyspQ       )\n",
    "\n",
    "        U *= (vp')*v0\n",
    "\n",
    "        t += δt\n",
    "    end\n",
    "    \n",
    "    return U\n",
    "\n",
    "end\n",
    "\n",
    "\n",
    "function NfyQ(L,M,B,y,ys,Mmdysp)\n",
    "    \n",
    "    Nα = Vector{QuaternionF64}(undef,B+1)\n",
    "    \n",
    "    for b in 1:B; ys[b] = y; end\n",
    "    \n",
    "    Mmdysp = M - diagm(ys)\n",
    "    Rnm = makeRnmQ(L,Mmdysp)\n",
    "    \n",
    "    p = conj( inv(Rnm)*transpose(L) )\n",
    "    \n",
    "\n",
    "    Nα[1] = quat(1.0,0,0,0) - (L*p)[1]\n",
    "    Nα[2:B+1] = -Mmdysp*p\n",
    "\n",
    "    norma = conj(Nα[1])*(Nα[1]) + conj(Nα[2])*(Nα[2]) + conj(Nα[3])*(Nα[3])\n",
    "    \n",
    "    return Nα ./ sqrt(norma)\n",
    "    \n",
    "end\n",
    "\n",
    "\n",
    "\n",
    "function makeRnmQ(L,Mmdysp)\n",
    "    return real( (L')*L +  Mmdysp'*Mmdysp ) \n",
    "end\n",
    "\n",
    "\n",
    "\n",
    "\n",
    "\n",
    "\n",
    "\n",
    "\n"
   ]
  },
  {
   "cell_type": "code",
   "execution_count": null,
   "id": "e789321e",
   "metadata": {},
   "outputs": [],
   "source": []
  },
  {
   "cell_type": "code",
   "execution_count": null,
   "id": "2daa1aa6",
   "metadata": {},
   "outputs": [],
   "source": [
    "\n",
    "function ADHMpt(L,M,y,ysQ,MmdyspQ,B)\n",
    "\n",
    "    U = zeros(4)\n",
    "    U[1] = 1.0\n",
    "    \n",
    "    δt = 0.2\n",
    "    t = -10.0\n",
    "    \n",
    "    Mmdysp = zeros(B,B,4)\n",
    "    p = zeros(B,4)\n",
    "\n",
    "    for tint in 1:100\n",
    "        \n",
    "        Nfy!(N0,L,M,[t,y[1],y[2],y[3]],Mmdysp,p,B)\n",
    "        Nfy!(Np,L,M,[t,y[1],y[2],y[3]],Mmdysp,p,B)\n",
    "\n",
    "        #v0 = NfyQ(L,M,2,quat(t,y[1],y[2],y[3]), ysQ, MmdyspQ )\n",
    "        #vp = NfyQ(L,M,2,quat(t + δt,y[1],y[2],y[3]), ysQ, MmdyspQ       )\n",
    "\n",
    "        U *= (vp')*v0\n",
    "\n",
    "        t += δt\n",
    "    end\n",
    "    \n",
    "    return U\n",
    "\n",
    "end\n"
   ]
  },
  {
   "cell_type": "code",
   "execution_count": 127,
   "id": "e054666e",
   "metadata": {},
   "outputs": [],
   "source": [
    "\n",
    "an_ADHM_skyrmion = Skyrmion(40,0.2);\n",
    "\n",
    "lp, x = an_ADHM_skyrmion.lp, an_ADHM_skyrmion.x\n",
    "\n",
    "for i in 1:lp[1], j in 1:lp[2], k in 1:lp[3]\n",
    "\n",
    "    Skpt = ADHMpt(LQ,MQ,[x[1][i],x[2][j],x[3][k]], ysQ, MmdyspQ)\n",
    "    an_ADHM_skyrmion.phi[i,j,k,:] = [imag_part(Skpt)[1], imag_part(Skpt)[2], imag_part(Skpt)[3], real(Skpt) ]\n",
    "    \n",
    "end"
   ]
  },
  {
   "cell_type": "code",
   "execution_count": 128,
   "id": "1d93a91c",
   "metadata": {},
   "outputs": [
    {
     "data": {
      "text/plain": [
       "GLMakie.Screen(...)"
      ]
     },
     "execution_count": 128,
     "metadata": {},
     "output_type": "execute_result"
    }
   ],
   "source": [
    "display(plot_field(an_ADHM_skyrmion, component=3, iso_value = 0.4))\n",
    "\n",
    "\n"
   ]
  },
  {
   "cell_type": "code",
   "execution_count": 134,
   "id": "7920a2e0",
   "metadata": {},
   "outputs": [
    {
     "data": {
      "text/plain": [
       "1.2110945793041896"
      ]
     },
     "execution_count": 134,
     "metadata": {},
     "output_type": "execute_result"
    }
   ],
   "source": [
    "sum(BaryonD(an_ADHM_skyrmion)*B4skyrmion.ls[1]^3/(2*pi^2))"
   ]
  },
  {
   "cell_type": "code",
   "execution_count": 136,
   "id": "735d2b1c",
   "metadata": {},
   "outputs": [
    {
     "data": {
      "text/plain": [
       "GLMakie.Screen(...)"
      ]
     },
     "execution_count": 136,
     "metadata": {},
     "output_type": "execute_result"
    }
   ],
   "source": [
    "display(plot_baryon_density(an_ADHM_skyrmion, iso_value=6.0))"
   ]
  },
  {
   "cell_type": "code",
   "execution_count": 126,
   "id": "9fee4b9f",
   "metadata": {},
   "outputs": [
    {
     "name": "stdout",
     "output_type": "stream",
     "text": [
      "Good if this is zero: 4.440892098500626e-16\n"
     ]
    }
   ],
   "source": [
    "ΔQ = vcat(LQ,MQ)\n",
    "ΔsqQ = (ΔQ')*ΔQ\n",
    "realitysumQ = 0.0\n",
    "for a in 1:B, b in 1:B\n",
    "    realitysumQ += sum(abs.(imag_part(ΔsqQ[2,1])))\n",
    "end\n",
    "println(\"Good if this is zero: \",realitysumQ)\n"
   ]
  },
  {
   "cell_type": "code",
   "execution_count": null,
   "id": "e0f380c8",
   "metadata": {},
   "outputs": [],
   "source": []
  },
  {
   "cell_type": "code",
   "execution_count": null,
   "id": "b01c5eb7",
   "metadata": {},
   "outputs": [],
   "source": []
  },
  {
   "cell_type": "code",
   "execution_count": null,
   "id": "ac3bc08b",
   "metadata": {},
   "outputs": [],
   "source": []
  },
  {
   "cell_type": "code",
   "execution_count": 106,
   "id": "45535b12",
   "metadata": {},
   "outputs": [],
   "source": [
    "\n",
    "\n"
   ]
  },
  {
   "cell_type": "code",
   "execution_count": 69,
   "id": "aef2f045",
   "metadata": {},
   "outputs": [
    {
     "data": {
      "text/plain": [
       "Matrix{QuaternionF64}\u001b[90m (alias for \u001b[39m\u001b[90mArray{Quaternion{Float64}, 2}\u001b[39m\u001b[90m)\u001b[39m"
      ]
     },
     "execution_count": 69,
     "metadata": {},
     "output_type": "execute_result"
    }
   ],
   "source": [
    "typeof(M)"
   ]
  },
  {
   "cell_type": "code",
   "execution_count": 147,
   "id": "4355e7c6",
   "metadata": {},
   "outputs": [
    {
     "data": {
      "text/plain": [
       "4-element Vector{Float64}:\n",
       "  0.0\n",
       " -1.0\n",
       "  0.0\n",
       "  0.0"
      ]
     },
     "execution_count": 147,
     "metadata": {},
     "output_type": "execute_result"
    }
   ],
   "source": []
  },
  {
   "cell_type": "code",
   "execution_count": 357,
   "id": "dbfae7e5",
   "metadata": {},
   "outputs": [
    {
     "data": {
      "text/plain": [
       "makeRnm! (generic function with 1 method)"
      ]
     },
     "execution_count": 357,
     "metadata": {},
     "output_type": "execute_result"
    }
   ],
   "source": [
    "function NfyQ(L,M,B,y,ys,Mmdysp,Rnm)\n",
    "    \n",
    "    Nα = Vector{QuaternionF64}(undef,B+1)\n",
    "    \n",
    "    for b in 1:B; ys[b] = y; end\n",
    "    \n",
    "    Mmdysp = M - diagm(ys)\n",
    "    makeRnm!(Rnm, L,Mmdysp)\n",
    "    \n",
    "    #p = conj( inv(Rnm)*transpose(L) )\n",
    "\n",
    "    #Nα[1] = quat(1.0,0,0,0) - (L*p)[1]\n",
    "    #Nα[2:B+1] = -Mmdysp*p\n",
    "\n",
    "    #norma = conj(Nα[1])*(Nα[1]) + conj(Nα[2])*(Nα[2]) + conj(Nα[3])*(Nα[3])\n",
    "    \n",
    "    return Nα ./ sqrt(norma)\n",
    "    \n",
    "    \n",
    "end\n",
    "\n",
    "\n",
    "\n",
    "function makeRnm!(Rnm,L,M,B)\n",
    "    @inbounds for a in 1:B, b in 1:B\n",
    "        @fastmath Rnm[a,b] = L[a,1]*L[b,1] + L[a,2]*L[b,2] + L[a,3]*L[b,3] + L[a,4]*L[b,4]\n",
    "        for c in 1:B, d in 1:4\n",
    "            @fastmath Rnm[a,b] += (M[a,c,d]*M[c,b,d])\n",
    "        end\n",
    "    end\n",
    "    \n",
    "    #return Rnm\n",
    "        \n",
    "end\n",
    "\n",
    "\n"
   ]
  },
  {
   "cell_type": "code",
   "execution_count": 313,
   "id": "a954fed5",
   "metadata": {},
   "outputs": [
    {
     "data": {
      "text/plain": [
       "MMatrix{2, 2, Float64}\u001b[90m (alias for \u001b[39m\u001b[90mMArray{Tuple{2, 2}, Float64, 2}\u001b[39m\u001b[90m)\u001b[39m"
      ]
     },
     "execution_count": 313,
     "metadata": {},
     "output_type": "execute_result"
    }
   ],
   "source": [
    "\n",
    "\n"
   ]
  },
  {
   "cell_type": "code",
   "execution_count": 286,
   "id": "0a0b6276",
   "metadata": {},
   "outputs": [
    {
     "name": "stdout",
     "output_type": "stream",
     "text": [
      "  358.455 ns (4 allocations: 1.30 KiB)\n"
     ]
    },
    {
     "data": {
      "text/plain": [
       "2×2 Matrix{Float64}:\n",
       "   5.74789  -8.70265\n",
       " -10.4257   19.8171"
      ]
     },
     "execution_count": 286,
     "metadata": {},
     "output_type": "execute_result"
    }
   ],
   "source": [
    "ourmatrix = rand(2,2)\n",
    "\n",
    "@btime inv(ourmatrix)"
   ]
  },
  {
   "cell_type": "code",
   "execution_count": 274,
   "id": "0e45ffbf",
   "metadata": {},
   "outputs": [
    {
     "name": "stdout",
     "output_type": "stream",
     "text": [
      "  463.357 ns (4 allocations: 1.86 KiB)\n"
     ]
    },
    {
     "data": {
      "text/plain": [
       "3×3 Matrix{Float64}:\n",
       " -187.931   285.288  -45.9566\n",
       "  204.029  -299.549   39.8909\n",
       " -149.473   217.686  -25.5446"
      ]
     },
     "execution_count": 274,
     "metadata": {},
     "output_type": "execute_result"
    }
   ],
   "source": [
    "ourmatrix = rand(3,3)\n",
    "\n",
    "@btime inv(ourmatrix)"
   ]
  },
  {
   "cell_type": "code",
   "execution_count": 61,
   "id": "718a85cb",
   "metadata": {},
   "outputs": [
    {
     "data": {
      "text/plain": [
       "Nfy (generic function with 1 method)"
      ]
     },
     "execution_count": 61,
     "metadata": {},
     "output_type": "execute_result"
    }
   ],
   "source": []
  },
  {
   "cell_type": "code",
   "execution_count": null,
   "id": "e51cdb02",
   "metadata": {},
   "outputs": [],
   "source": []
  },
  {
   "cell_type": "code",
   "execution_count": 370,
   "id": "c401aceb",
   "metadata": {},
   "outputs": [
    {
     "data": {
      "text/plain": [
       "makeRnmQ (generic function with 1 method)"
      ]
     },
     "execution_count": 370,
     "metadata": {},
     "output_type": "execute_result"
    }
   ],
   "source": [
    "function NfyQ(L,M,B,y,ys,Mmdysp)\n",
    "    \n",
    "    Nα = Vector{QuaternionF64}(undef,B+1)\n",
    "    \n",
    "    for b in 1:B; ys[b] = y; end\n",
    "    \n",
    "    Mmdysp = M - diagm(ys)\n",
    "    Rnm = makeRnmQ(L,Mmdysp)\n",
    "    \n",
    "    println(Rnm)\n",
    "    \n",
    "    p = conj( inv(Rnm)*transpose(L) )\n",
    "\n",
    "    Nα[1] = quat(1.0,0,0,0) - (L*p)[1]\n",
    "    Nα[2:B+1] = -Mmdysp*p\n",
    "\n",
    "    norma = conj(Nα[1])*(Nα[1]) + conj(Nα[2])*(Nα[2]) + conj(Nα[3])*(Nα[3])\n",
    "    \n",
    "    return Nα ./ sqrt(norma)\n",
    "    \n",
    "end\n",
    "\n",
    "\n",
    "\n",
    "function makeRnmQ(L,Mmdysp)\n",
    "    return real( L'*L +  Mmdysp'*Mmdysp ) \n",
    "end\n",
    "\n",
    "\n",
    "\n"
   ]
  },
  {
   "cell_type": "code",
   "execution_count": null,
   "id": "e7f3926b",
   "metadata": {},
   "outputs": [],
   "source": []
  },
  {
   "cell_type": "code",
   "execution_count": 359,
   "id": "b592e622",
   "metadata": {},
   "outputs": [
    {
     "data": {
      "text/plain": [
       "3×4 Matrix{Float64}:\n",
       " 0.895149    0.0         0.0          0.0\n",
       " 0.0271299   0.0128129   0.00660128   0.319932\n",
       " 0.30793    -0.00597778  0.0123453   -0.0199597"
      ]
     },
     "execution_count": 359,
     "metadata": {},
     "output_type": "execute_result"
    }
   ],
   "source": [
    "Mmdysp = zeros(B,B,4)\n",
    "p = zeros(B,4)\n",
    "\n",
    "Nfy(L,M,[0.3,0.2,0.1,4.0],Mmdysp,p)"
   ]
  },
  {
   "cell_type": "code",
   "execution_count": 11,
   "id": "c834cfe3",
   "metadata": {},
   "outputs": [
    {
     "ename": "LoadError",
     "evalue": "UndefVarError: L not defined",
     "output_type": "error",
     "traceback": [
      "UndefVarError: L not defined",
      "",
      "Stacktrace:",
      " [1] top-level scope",
      "   @ In[11]:5"
     ]
    }
   ],
   "source": []
  },
  {
   "cell_type": "code",
   "execution_count": 331,
   "id": "e84023c4",
   "metadata": {},
   "outputs": [
    {
     "name": "stdout",
     "output_type": "stream",
     "text": [
      "  179.856 ns (2 allocations: 144 bytes)\n"
     ]
    }
   ],
   "source": [
    "Mmdysp = zeros(B,B,4)\n",
    "p = zeros(B,4)\n",
    "Nα = zeros(B+1,4)\n",
    "\n",
    "@btime Nfy_SA!(Nα,L,M,[0.3,0.2,0.1,4.0],Mmdysp,p,B)"
   ]
  },
  {
   "cell_type": "code",
   "execution_count": 328,
   "id": "c2994f4f",
   "metadata": {},
   "outputs": [
    {
     "name": "stdout",
     "output_type": "stream",
     "text": [
      "  10.875 μs (243 allocations: 5.86 KiB)\n"
     ]
    }
   ],
   "source": [
    "Nα = zeros(B+1,4)\n",
    "\n",
    "Nfy_SA!(Nα,L,M,[0.3,0.2,0.1,4.0],B)\n"
   ]
  },
  {
   "cell_type": "code",
   "execution_count": 372,
   "id": "45ab1de5",
   "metadata": {},
   "outputs": [
    {
     "name": "stdout",
     "output_type": "stream",
     "text": [
      "[19.740000000000002 -0.2; -0.2 20.540000000000003]\n"
     ]
    },
    {
     "data": {
      "text/plain": [
       "3-element Vector{QuaternionF64}:\n",
       "                                                       QuaternionF64(0.8951493119880019, 0.0, 0.0, 0.0)\n",
       "    QuaternionF64(0.027129937530665154, 0.01281287483493637, 0.006601280404617463, 0.31993218489911074)\n",
       " QuaternionF64(0.3079298568907154, -0.0059777828457397795, 0.012345251665778099, -0.019959715603571803)"
      ]
     },
     "execution_count": 372,
     "metadata": {},
     "output_type": "execute_result"
    }
   ],
   "source": [
    "NfyQ(LQ,MQ,B,quat(0.3,0.2,0.1,4.0),ysQ,MmdyspQ)"
   ]
  },
  {
   "cell_type": "code",
   "execution_count": 253,
   "id": "7efd0a35",
   "metadata": {},
   "outputs": [
    {
     "data": {
      "text/plain": [
       "2×2 Matrix{Float64}:\n",
       "  3.78  -0.8\n",
       " -0.8    4.98"
      ]
     },
     "execution_count": 253,
     "metadata": {},
     "output_type": "execute_result"
    }
   ],
   "source": [
    "y = [0.2,0.3,0.4,0.3]\n",
    "\n",
    "    for a in 1:B, b in 1:B, c in 1:4\n",
    "        Mmdysp[a,b,c] = 0.0\n",
    "    end\n",
    "\n",
    "for b in 1:B, a in 1:4\n",
    "        Mmdysp[b,b,a] -= y[a]\n",
    "        for c in 1:B\n",
    "            Mmdysp[b,c,a] += M[b,c,a]\n",
    "        end\n",
    "    end\n",
    "\n",
    "makeRnm!(Rnm, L, Mmdysp, B)"
   ]
  },
  {
   "cell_type": "code",
   "execution_count": 301,
   "id": "6b36f5e1",
   "metadata": {},
   "outputs": [
    {
     "data": {
      "text/plain": [
       "makeRnm! (generic function with 1 method)"
      ]
     },
     "execution_count": 301,
     "metadata": {},
     "output_type": "execute_result"
    }
   ],
   "source": [
    "\n",
    "function makeRnm!(Rnm,L,M,B)\n",
    "    for a in 1:B, b in 1:B\n",
    "        @fastmath Rnm[a,b] = L[a,1]*L[b,1] + L[a,2]*L[b,2] + L[a,3]*L[b,3] + L[a,4]*L[b,4]\n",
    "        for c in 1:B, d in 1:4\n",
    "            @fastmath Rnm[a,b] += (M[a,c,d]*M[c,b,d])\n",
    "        end\n",
    "    end\n",
    "    \n",
    "        \n",
    "end"
   ]
  },
  {
   "cell_type": "code",
   "execution_count": null,
   "id": "03e48daf",
   "metadata": {},
   "outputs": [],
   "source": [
    "an_ADHM_skyrmion = Skyrmion(40,0.2);\n",
    "\n",
    "lp, x = an_ADHM_skyrmion.lp, an_ADHM_skyrmion.x\n",
    "\n",
    "for i in 1:lp[1], j in 1:lp[2], k in 1:lp[3]\n",
    "\n",
    "    Skpt = ADHMpt(L,M,[x[1][i],x[2][j],x[3][k]])\n",
    "    an_ADHM_skyrmion.phi[i,j,k,:] = [real(Skpt), imag_part(Skpt)[1], imag_part(Skpt)[2], imag_part(Skpt)[3] ]\n",
    "    \n",
    "end\n"
   ]
  },
  {
   "cell_type": "code",
   "execution_count": 384,
   "id": "56d8d386",
   "metadata": {},
   "outputs": [
    {
     "data": {
      "text/plain": [
       "2×2 Matrix{QuaternionF64}:\n",
       " QuaternionF64(0.0, 1.0, 0.0, 0.0)   QuaternionF64(0.0, 0.0, 1.0, 0.0)\n",
       " QuaternionF64(0.0, 0.0, 1.0, 0.0)  QuaternionF64(0.0, -1.0, 0.0, 0.0)"
      ]
     },
     "execution_count": 384,
     "metadata": {},
     "output_type": "execute_result"
    }
   ],
   "source": [
    "MQ"
   ]
  },
  {
   "cell_type": "code",
   "execution_count": 378,
   "id": "d4ea5c3b",
   "metadata": {},
   "outputs": [
    {
     "data": {
      "text/plain": [
       "Nfy! (generic function with 2 methods)"
      ]
     },
     "execution_count": 378,
     "metadata": {},
     "output_type": "execute_result"
    }
   ],
   "source": [
    "function Nfy!(Nα,L,M,y,Mmdysp,p,B)\n",
    "\n",
    "    Rnm = zeros(B,B)#zeros( MMatrix{2,2,Float64} )\n",
    "    \n",
    "    #for a in 1:B, b in 1:B, c in 1:4\n",
    "    #    Mmdysp[a,b,c] = 0.0\n",
    "    #end\n",
    "    \n",
    "    @inbounds for b in 1:B, a in 1:4\n",
    "        Mmdysp[b,b,a] -= y[a]\n",
    "        for c in 1:B\n",
    "            Mmdysp[b,c,a] += M[b,c,a]\n",
    "        end\n",
    "    end\n",
    "\n",
    "    makeRnm!(Rnm, L, Mmdysp, B)\n",
    "    \n",
    "    print(Rnm)\n",
    "    \n",
    "    iRnm = inv(Rnm)\n",
    "\n",
    "\n",
    "    @inbounds for a in 1:B\n",
    "\n",
    "        for b in 1:B\n",
    "            \n",
    "            p[a,1] += iRnm[a,b]*L[b,1]\n",
    "\n",
    "            for c in 2:4\n",
    "                p[a,c] -= iRnm[a,b]*L[b,c]\n",
    "            end\n",
    "\n",
    "        end\n",
    "        \n",
    "        #for c in 1:4\n",
    "        #    Nα[a,c] = 0.0\n",
    "        #end\n",
    "\n",
    "    end\n",
    "    \n",
    "    #for c in 1:4\n",
    "    #    Nα[B+1,c] = 0.0\n",
    "    #end\n",
    "\n",
    "    normer = 0.0\n",
    "\n",
    "    @inbounds for a in 1:B\n",
    "\n",
    "        Nα[1,1] -= q1(L,p,a)\n",
    "        Nα[1,2] -= q2(L,p,a)\n",
    "        Nα[1,3] -= q3(L,p,a)\n",
    "        Nα[1,4] -= q4(L,p,a)\n",
    "\n",
    "        for b in 1:B\n",
    "\n",
    "            Nα[b+1,1] -= q1(Mmdysp,p,b,a)\n",
    "            Nα[b+1,2] -= q2(Mmdysp,p,b,a)\n",
    "            Nα[b+1,3] -= q3(Mmdysp,p,b,a)\n",
    "            Nα[b+1,4] -= q4(Mmdysp,p,b,a)\n",
    "\n",
    "        end\n",
    "\n",
    "    end\n",
    "\n",
    "    @inbounds for a in 1:B+1, b in 1:4 \n",
    "        normer += Nα[a,b]^2\n",
    "    end\n",
    "    normer = sqrt(normer)\n",
    "\n",
    "    @inbounds for a in 1:B+1, b in 1:4 \n",
    "        Nα[a,b] /= normer\n",
    "    end\n",
    "    \n",
    "\n",
    "end\n"
   ]
  },
  {
   "cell_type": "code",
   "execution_count": 218,
   "id": "3d7bb38f",
   "metadata": {},
   "outputs": [
    {
     "data": {
      "text/plain": [
       "3×4 Matrix{Float64}:\n",
       " 0.895149    0.0         0.0          0.0\n",
       " 0.0271299   0.0128129   0.00660128   0.319932\n",
       " 0.30793    -0.00597778  0.0123453   -0.0199597"
      ]
     },
     "execution_count": 218,
     "metadata": {},
     "output_type": "execute_result"
    }
   ],
   "source": []
  },
  {
   "cell_type": "code",
   "execution_count": null,
   "id": "a0624410",
   "metadata": {},
   "outputs": [],
   "source": []
  },
  {
   "cell_type": "code",
   "execution_count": 182,
   "id": "bbb8061c",
   "metadata": {},
   "outputs": [
    {
     "ename": "LoadError",
     "evalue": "syntax: unexpected \")\"",
     "output_type": "error",
     "traceback": [
      "syntax: unexpected \")\"",
      "",
      "Stacktrace:",
      " [1] top-level scope",
      "   @ In[182]:1"
     ]
    }
   ],
   "source": [
    "function q1(l,p)\n",
    "    l[1]*p[1] - l[2]*p[2] - l[3]*p[3] - l[4]*p[4]\n",
    "end\n",
    "function q2(l,p)\n",
    "    l[2]*p[1] + l[1]*p[2] - l[4]*p[3] + l[3]*p[4]\n",
    "end\n",
    "function q3(l,p)\n",
    "    l[3]*p[1] + l[4]*p[2] + l[1]*p[3] - l[2]*p[4]\n",
    "end\n",
    "function q4(l,p)\n",
    "    l[4]*p[1] - l[3]*p[2] + l[2]*p[3] + l[1]*p[4]\n",
    "end"
   ]
  },
  {
   "cell_type": "code",
   "execution_count": 376,
   "id": "66068b46",
   "metadata": {},
   "outputs": [
    {
     "data": {
      "text/plain": [
       "q4 (generic function with 4 methods)"
      ]
     },
     "execution_count": 376,
     "metadata": {},
     "output_type": "execute_result"
    }
   ],
   "source": [
    "function q1(l,p,a)\n",
    "    @inbounds l[a,1]*p[a,1] - l[a,2]*p[a,2] - l[a,3]*p[a,3] - l[a,4]*p[a,4]\n",
    "end\n",
    "function q2(l,p,a)\n",
    "    @inbounds l[a,2]*p[a,1] + l[a,1]*p[a,2] - l[a,4]*p[a,3] + l[a,3]*p[a,4]\n",
    "end\n",
    "function q3(l,p,a)\n",
    "    @inbounds l[a,3]*p[a,1] + l[a,4]*p[a,2] + l[a,1]*p[a,3] - l[a,2]*p[a,4]\n",
    "end\n",
    "function q4(l,p,a)\n",
    "    @inbounds l[a,4]*p[a,1] - l[a,3]*p[a,2] + l[a,2]*p[a,3] + l[a,1]*p[a,4]\n",
    "end"
   ]
  },
  {
   "cell_type": "code",
   "execution_count": 377,
   "id": "44f734e2",
   "metadata": {},
   "outputs": [
    {
     "data": {
      "text/plain": [
       "q4 (generic function with 4 methods)"
      ]
     },
     "execution_count": 377,
     "metadata": {},
     "output_type": "execute_result"
    }
   ],
   "source": [
    "function q1(l,p,a,b)\n",
    "    @inbounds l[a,b,1]*p[b,1] - l[a,b,2]*p[b,2] - l[a,b,3]*p[b,3] - l[a,b,4]*p[b,4]\n",
    "end\n",
    "function q2(l,p,a,b)\n",
    "    @inbounds l[a,b,2]*p[b,1] + l[a,b,1]*p[b,2] - l[a,b,4]*p[b,3] + l[a,b,3]*p[b,4]\n",
    "end\n",
    "function q3(l,p,a,b)\n",
    "    @inbounds l[a,b,3]*p[b,1] + l[a,b,4]*p[b,2] + l[a,b,1]*p[b,3] - l[a,b,2]*p[b,4]\n",
    "end\n",
    "function q4(l,p,a,b)\n",
    "    @inbounds l[a,b,4]*p[b,1] - l[a,b,3]*p[b,2] + l[a,b,2]*p[b,3] + l[a,b,1]*p[b,4]\n",
    "end"
   ]
  },
  {
   "cell_type": "code",
   "execution_count": 175,
   "id": "047a0f94",
   "metadata": {},
   "outputs": [
    {
     "ename": "LoadError",
     "evalue": "UndefVarError: l1 not defined",
     "output_type": "error",
     "traceback": [
      "UndefVarError: l1 not defined",
      "",
      "Stacktrace:",
      " [1] top-level scope",
      "   @ In[175]:1"
     ]
    }
   ],
   "source": [
    "quat(l1,l2,l3,l4)*quat(p1,p2,p3,p4)"
   ]
  },
  {
   "cell_type": "code",
   "execution_count": 211,
   "id": "27f20e2d",
   "metadata": {},
   "outputs": [
    {
     "data": {
      "text/plain": [
       "3-element Vector{QuaternionF64}:\n",
       "                                                       QuaternionF64(0.8951493119880019, 0.0, 0.0, 0.0)\n",
       "    QuaternionF64(0.027129937530665154, 0.01281287483493637, 0.006601280404617463, 0.31993218489911074)\n",
       " QuaternionF64(0.3079298568907154, -0.0059777828457397795, 0.012345251665778099, -0.019959715603571803)"
      ]
     },
     "execution_count": 211,
     "metadata": {},
     "output_type": "execute_result"
    }
   ],
   "source": [
    "\n",
    "\n",
    "yQ = quat(0.3,0.2,0.1,4.0)\n",
    "\n",
    "    Nα = Vector{QuaternionF64}(undef,B+1)\n",
    "    \n",
    "    for b in 1:B; ysQ[b] = yQ; end\n",
    "    \n",
    "    MmdyspQ = MQ - diagm(ysQ)\n",
    "    Rnm = makeRnmQ(LQ,MmdyspQ)\n",
    "    \n",
    "    pQ = conj( inv(Rnm)*transpose(LQ) )\n",
    "\n",
    "\n",
    "\n",
    "\n",
    "Nα[1] = quat(1.0,0,0,0) - (LQ*pQ)[1]\n",
    "Nα[2:B+1] = -MmdyspQ*pQ\n",
    "\n",
    "    norma = conj(Nα[1])*(Nα[1]) + conj(Nα[2])*(Nα[2]) + conj(Nα[3])*(Nα[3])\n",
    "    \n",
    "Nα ./ sqrt(norma)\n",
    "\n",
    "\n",
    "\n",
    "\n"
   ]
  },
  {
   "cell_type": "code",
   "execution_count": 210,
   "id": "509224df",
   "metadata": {},
   "outputs": [
    {
     "data": {
      "text/plain": [
       "3×4 Matrix{Float64}:\n",
       " 0.895149    0.0         0.0          0.0\n",
       " 0.0271299   0.0128129   0.00660128   0.319932\n",
       " 0.30793    -0.00597778  0.0123453   -0.0199597"
      ]
     },
     "execution_count": 210,
     "metadata": {},
     "output_type": "execute_result"
    }
   ],
   "source": [
    "Nα"
   ]
  },
  {
   "cell_type": "code",
   "execution_count": 214,
   "id": "835f07f8",
   "metadata": {},
   "outputs": [
    {
     "data": {
      "text/plain": [
       "QuaternionF64(0.3079298568907154, -0.0059777828457397795, 0.012345251665778099, -0.019959715603571803)"
      ]
     },
     "execution_count": 214,
     "metadata": {},
     "output_type": "execute_result"
    }
   ],
   "source": [
    "(Nα ./ sqrt(norma))[3]"
   ]
  },
  {
   "cell_type": "code",
   "execution_count": 53,
   "id": "658e3e57",
   "metadata": {},
   "outputs": [
    {
     "data": {
      "text/plain": [
       "BenchmarkTools.Trial: 10000 samples with 178 evaluations.\n",
       " Range \u001b[90m(\u001b[39m\u001b[36m\u001b[1mmin\u001b[22m\u001b[39m … \u001b[35mmax\u001b[39m\u001b[90m):  \u001b[39m\u001b[36m\u001b[1m603.933 ns\u001b[22m\u001b[39m … \u001b[35m187.972 μs\u001b[39m  \u001b[90m┊\u001b[39m GC \u001b[90m(\u001b[39mmin … max\u001b[90m): \u001b[39m 0.00% … 99.47%\n",
       " Time  \u001b[90m(\u001b[39m\u001b[34m\u001b[1mmedian\u001b[22m\u001b[39m\u001b[90m):     \u001b[39m\u001b[34m\u001b[1m772.472 ns               \u001b[22m\u001b[39m\u001b[90m┊\u001b[39m GC \u001b[90m(\u001b[39mmedian\u001b[90m):    \u001b[39m 0.00%\n",
       " Time  \u001b[90m(\u001b[39m\u001b[32m\u001b[1mmean\u001b[22m\u001b[39m ± \u001b[32mσ\u001b[39m\u001b[90m):   \u001b[39m\u001b[32m\u001b[1m941.504 ns\u001b[22m\u001b[39m ± \u001b[32m  4.726 μs\u001b[39m  \u001b[90m┊\u001b[39m GC \u001b[90m(\u001b[39mmean ± σ\u001b[90m):  \u001b[39m13.26% ±  2.63%\n",
       "\n",
       "  \u001b[39m \u001b[39m \u001b[39m \u001b[39m \u001b[39m \u001b[39m \u001b[39m \u001b[39m \u001b[39m \u001b[39m \u001b[39m \u001b[39m \u001b[39m \u001b[39m \u001b[39m \u001b[39m \u001b[39m \u001b[39m▃\u001b[39m▇\u001b[39m█\u001b[39m▄\u001b[39m▂\u001b[39m \u001b[39m \u001b[34m \u001b[39m\u001b[39m \u001b[39m \u001b[39m \u001b[39m \u001b[39m \u001b[39m \u001b[39m \u001b[39m \u001b[39m \u001b[39m \u001b[39m \u001b[39m \u001b[39m \u001b[39m \u001b[39m \u001b[39m \u001b[39m \u001b[39m \u001b[39m \u001b[39m \u001b[39m \u001b[39m \u001b[39m \u001b[39m▁\u001b[32m \u001b[39m\u001b[39m \u001b[39m \u001b[39m \u001b[39m \u001b[39m \u001b[39m \u001b[39m \u001b[39m \u001b[39m \u001b[39m \u001b[39m \u001b[39m \u001b[39m \n",
       "  \u001b[39m▁\u001b[39m▁\u001b[39m▁\u001b[39m▂\u001b[39m▂\u001b[39m▃\u001b[39m▃\u001b[39m▃\u001b[39m▃\u001b[39m▃\u001b[39m▃\u001b[39m▄\u001b[39m▄\u001b[39m▄\u001b[39m▄\u001b[39m▅\u001b[39m▆\u001b[39m█\u001b[39m█\u001b[39m█\u001b[39m█\u001b[39m█\u001b[39m█\u001b[39m▆\u001b[34m▅\u001b[39m\u001b[39m▄\u001b[39m▃\u001b[39m▃\u001b[39m▃\u001b[39m▃\u001b[39m▃\u001b[39m▃\u001b[39m▃\u001b[39m▄\u001b[39m▃\u001b[39m▃\u001b[39m▃\u001b[39m▃\u001b[39m▂\u001b[39m▂\u001b[39m▂\u001b[39m▂\u001b[39m▃\u001b[39m▃\u001b[39m▄\u001b[39m▅\u001b[39m█\u001b[39m█\u001b[39m█\u001b[32m█\u001b[39m\u001b[39m█\u001b[39m▆\u001b[39m▅\u001b[39m▅\u001b[39m▄\u001b[39m▃\u001b[39m▃\u001b[39m▃\u001b[39m▃\u001b[39m▂\u001b[39m▂\u001b[39m \u001b[39m▃\n",
       "  604 ns\u001b[90m           Histogram: frequency by time\u001b[39m         1.02 μs \u001b[0m\u001b[1m<\u001b[22m\n",
       "\n",
       " Memory estimate\u001b[90m: \u001b[39m\u001b[33m1.30 KiB\u001b[39m, allocs estimate\u001b[90m: \u001b[39m\u001b[33m4\u001b[39m."
      ]
     },
     "execution_count": 53,
     "metadata": {},
     "output_type": "execute_result"
    }
   ],
   "source": [
    "@benchmark  inv(Rnm)"
   ]
  },
  {
   "cell_type": "code",
   "execution_count": 30,
   "id": "a53a284d",
   "metadata": {},
   "outputs": [
    {
     "data": {
      "text/plain": [
       "makeRnmQ (generic function with 1 method)"
      ]
     },
     "execution_count": 30,
     "metadata": {},
     "output_type": "execute_result"
    }
   ],
   "source": [
    "function makeRnmQU!(Rnm,L,Mmdysp)\n",
    "    Rnm = real( (L')*L + (Mmdysp')*Mmdysp ) \n",
    "end\n",
    "\n",
    "function makeRnmQU(L,Mmdysp)\n",
    "    Rnm = real( (L')*L + (Mmdysp')*Mmdysp ) \n",
    "end\n",
    "\n"
   ]
  },
  {
   "cell_type": "code",
   "execution_count": 356,
   "id": "04821418",
   "metadata": {},
   "outputs": [
    {
     "data": {
      "text/plain": [
       "makeRnm! (generic function with 1 method)"
      ]
     },
     "execution_count": 356,
     "metadata": {},
     "output_type": "execute_result"
    }
   ],
   "source": [
    "function makeRnm(L,M,B)\n",
    "    Rnm = zeros(B,B)\n",
    "    for a in 1:B, b in 1:B\n",
    "        Rnm[a,b] = L[a,1]*L[b,1] + L[a,2]*L[b,2] + L[a,3]*L[b,3] + L[a,4]*L[b,4]\n",
    "        for c in 1:B\n",
    "            Rnm[a,b] += (M[a,c,1]*M[c,b,1] + M[a,c,2]*M[c,b,2] + M[a,c,3]*M[c,b,3] + M[a,c,4]*M[c,b,4])\n",
    "        end\n",
    "    end\n",
    "    \n",
    "    return Rnm\n",
    "        \n",
    "end\n",
    "\n",
    "function makeRnm!(Rnm,L,M,B)\n",
    "    for a in 1:B, b in 1:B\n",
    "        @fastmath Rnm[a,b] = L[a,1]*L[b,1] + L[a,2]*L[b,2] + L[a,3]*L[b,3] + L[a,4]*L[b,4]\n",
    "        for c in 1:B, d in 1:4\n",
    "            @fastmath Rnm[a,b] += (M[a,c,d]*M[c,b,d])\n",
    "        end\n",
    "    end\n",
    "    \n",
    "    #return Rnm\n",
    "        \n",
    "end"
   ]
  },
  {
   "cell_type": "code",
   "execution_count": null,
   "id": "b33ec37b",
   "metadata": {},
   "outputs": [],
   "source": []
  },
  {
   "cell_type": "code",
   "execution_count": null,
   "id": "609c33d5",
   "metadata": {},
   "outputs": [],
   "source": []
  },
  {
   "cell_type": "code",
   "execution_count": null,
   "id": "bdbd7479",
   "metadata": {},
   "outputs": [],
   "source": []
  },
  {
   "cell_type": "code",
   "execution_count": null,
   "id": "b9574544",
   "metadata": {},
   "outputs": [],
   "source": []
  },
  {
   "cell_type": "code",
   "execution_count": 116,
   "id": "b7bfb9a2",
   "metadata": {},
   "outputs": [
    {
     "data": {
      "text/plain": [
       "makeRnmN! (generic function with 1 method)"
      ]
     },
     "execution_count": 116,
     "metadata": {},
     "output_type": "execute_result"
    }
   ],
   "source": [
    "tot = 0.0\n",
    "RnmN =  Matrix{Float64}(undef,B,B)\n",
    "\n",
    "function makeRnmQ!(RnmN,L,Mmdysp)\n",
    "    for i in 1:B, j in 1:B\n",
    "        RnmN[i,j] = 0.0\n",
    "        RnmN[i,j] += real(conj(L[1,i])*L[1,j])\n",
    "        for k in 1:B\n",
    "            RnmN[i,j] += real(conj(Mmdysp[k,i])*Mmdysp[k,j])\n",
    "        end\n",
    "    end\n",
    "end\n",
    "\n",
    "function makeRnmN!(RnmN,L,Mmdysp)\n",
    "    for i in 1:B, j in 1:B\n",
    "        RnmN[i,j] = 0.0\n",
    "        RnmN[i,j] += L[[1,i]],L[j])\n",
    "        for k in 1:B\n",
    "            RnmN[i,j] += real(conj(Mmdysp[k,i])*Mmdysp[k,j])\n",
    "        end\n",
    "    end\n",
    "end\n",
    "\n"
   ]
  },
  {
   "cell_type": "code",
   "execution_count": 144,
   "id": "37d19a26",
   "metadata": {},
   "outputs": [
    {
     "data": {
      "text/plain": [
       "rv1v2i (generic function with 1 method)"
      ]
     },
     "execution_count": 144,
     "metadata": {},
     "output_type": "execute_result"
    }
   ],
   "source": [
    "function rv1v2(v1,v2)\n",
    "    return v1[1]*v2[1] - v1[2]*v2[2] - v1[3]*v2[3] - v1[4]*v2[4]\n",
    "end\n",
    "\n",
    "function rv1v2i(v1,v2,i,j)\n",
    "    return v1[i][1]*v2[j][1] - v1[i][2]*v2[j][2] - v1[i][3]*v2[j][3] - v1[i][4]*v2[j][4]\n",
    "end"
   ]
  },
  {
   "cell_type": "code",
   "execution_count": null,
   "id": "abb9b323",
   "metadata": {},
   "outputs": [],
   "source": []
  },
  {
   "cell_type": "code",
   "execution_count": null,
   "id": "3cdb4f52",
   "metadata": {},
   "outputs": [],
   "source": []
  },
  {
   "cell_type": "code",
   "execution_count": null,
   "id": "12ea9016",
   "metadata": {},
   "outputs": [],
   "source": []
  },
  {
   "cell_type": "code",
   "execution_count": null,
   "id": "5321f8da",
   "metadata": {},
   "outputs": [],
   "source": []
  },
  {
   "cell_type": "code",
   "execution_count": 344,
   "id": "ea8406bc",
   "metadata": {},
   "outputs": [
    {
     "data": {
      "text/plain": [
       "2×2 Matrix{Float64}:\n",
       " 0.238095   0.0952381\n",
       " 0.0952381  0.238095"
      ]
     },
     "execution_count": 344,
     "metadata": {},
     "output_type": "execute_result"
    }
   ],
   "source": [
    "Nα = Vector{QuaternionF64}(undef,B+1)\n",
    "    \n",
    "y = quat(0,0,1.0,0)\n",
    "\n",
    "for b in 1:B; ys[b] = y; end\n",
    "\n",
    "Rnm = real( (L')*L + ( (M - diagm(ys))')*(M - diagm(ys)) ) \n",
    "p = conj( inv(Rnm)*transpose(L) )\n",
    "\n",
    "Nα[1] = quat(1.0,0,0,0) - (L*p)[1]\n",
    "Nα[2:B+1] = (-(M - diagm(ys))*p)\n",
    "\n",
    "#norma = conj(Nα[1])*(Nα[1]) + conj(Nα[2])*(Nα[2]) + conj(Nα[3])*(Nα[3])\n",
    "\n",
    "#Nα ./= sqrt(norma)\n",
    "\n",
    "inv(Rnm)\n"
   ]
  },
  {
   "cell_type": "code",
   "execution_count": null,
   "id": "3f44b9f9",
   "metadata": {},
   "outputs": [],
   "source": []
  },
  {
   "cell_type": "code",
   "execution_count": null,
   "id": "51d65aa2",
   "metadata": {},
   "outputs": [],
   "source": []
  },
  {
   "cell_type": "code",
   "execution_count": null,
   "id": "969e7aba",
   "metadata": {},
   "outputs": [],
   "source": []
  },
  {
   "cell_type": "code",
   "execution_count": null,
   "id": "947f3aa6",
   "metadata": {},
   "outputs": [],
   "source": []
  },
  {
   "cell_type": "code",
   "execution_count": null,
   "id": "33a76cf7",
   "metadata": {},
   "outputs": [],
   "source": []
  },
  {
   "cell_type": "code",
   "execution_count": 213,
   "id": "75b21589",
   "metadata": {},
   "outputs": [
    {
     "data": {
      "text/plain": [
       "normalize_q! (generic function with 1 method)"
      ]
     },
     "execution_count": 213,
     "metadata": {},
     "output_type": "execute_result"
    }
   ],
   "source": [
    "function normalize_q!(q)\n",
    "    normer = q*conj(q)\n",
    "    q /= sqrt(normer)\n",
    "end"
   ]
  },
  {
   "cell_type": "code",
   "execution_count": null,
   "id": "2e094603",
   "metadata": {},
   "outputs": [],
   "source": []
  },
  {
   "cell_type": "code",
   "execution_count": 373,
   "id": "278f88b4",
   "metadata": {},
   "outputs": [
    {
     "data": {
      "text/plain": [
       "2"
      ]
     },
     "execution_count": 373,
     "metadata": {},
     "output_type": "execute_result"
    }
   ],
   "source": [
    "1+1"
   ]
  },
  {
   "cell_type": "code",
   "execution_count": 396,
   "id": "f04fa8c5",
   "metadata": {},
   "outputs": [
    {
     "data": {
      "text/plain": [
       "ADHMpt (generic function with 1 method)"
      ]
     },
     "execution_count": 396,
     "metadata": {},
     "output_type": "execute_result"
    }
   ],
   "source": []
  },
  {
   "cell_type": "code",
   "execution_count": 49,
   "id": "fe40cff7",
   "metadata": {},
   "outputs": [
    {
     "data": {
      "text/plain": [
       "ADHMpt (generic function with 1 method)"
      ]
     },
     "execution_count": 49,
     "metadata": {},
     "output_type": "execute_result"
    }
   ],
   "source": []
  },
  {
   "cell_type": "code",
   "execution_count": 38,
   "id": "08b0aa70",
   "metadata": {},
   "outputs": [],
   "source": []
  },
  {
   "cell_type": "code",
   "execution_count": 51,
   "id": "9c319086",
   "metadata": {},
   "outputs": [],
   "source": [
    "an_ADHM_skyrmion = Skyrmion(40,0.2);\n",
    "\n",
    "lp, x = an_ADHM_skyrmion.lp, an_ADHM_skyrmion.x\n",
    "\n",
    "for i in 1:lp[1], j in 1:lp[2], k in 1:lp[3]\n",
    "\n",
    "    Skpt = ADHMpt(LQ,MQ,[x[1][i],x[2][j],x[3][k]])\n",
    "    an_ADHM_skyrmion.phi[i,j,k,:] = [real(Skpt), imag_part(Skpt)[1], imag_part(Skpt)[2], imag_part(Skpt)[3] ]\n",
    "    \n",
    "end"
   ]
  },
  {
   "cell_type": "code",
   "execution_count": 50,
   "id": "88d3e15d",
   "metadata": {},
   "outputs": [
    {
     "data": {
      "text/plain": [
       "QuaternionF64(0.6958535521015144, -0.31075174352985596, 0.4143356580398079, 0.4282641928442112)"
      ]
     },
     "execution_count": 50,
     "metadata": {},
     "output_type": "execute_result"
    }
   ],
   "source": [
    "ADHMpt(LQ,MQ,[1.0,2.0,1.0])"
   ]
  },
  {
   "cell_type": "code",
   "execution_count": 409,
   "id": "a5fc422b",
   "metadata": {},
   "outputs": [
    {
     "data": {
      "text/plain": [
       "31×31×31 Array{Float64, 3}:\n",
       "[:, :, 1] =\n",
       "  0.0747293   0.0770416   0.0787425  …  -0.0787425  -0.0770416  -0.0747293\n",
       "  0.0770416   0.0797215   0.0817833     -0.0817833  -0.0797215  -0.0770416\n",
       "  0.0787425   0.0817833   0.0842077     -0.0842077  -0.0817833  -0.0787425\n",
       "  0.0796813   0.0830603   0.0858333     -0.0858333  -0.0830603  -0.0796813\n",
       "  0.0797042   0.0833795   0.0864682     -0.0864682  -0.0833795  -0.0797042\n",
       "  0.0786616   0.0825705   0.0859211  …  -0.0859211  -0.0825705  -0.0786616\n",
       "  0.0764183   0.0804764   0.084013      -0.084013   -0.0804764  -0.0764183\n",
       "  0.0728643   0.0769666   0.0805918     -0.0805918  -0.0769666  -0.0728643\n",
       "  0.0679264   0.0719504   0.0755479     -0.0755479  -0.0719504  -0.0679264\n",
       "  0.0615793   0.0653899   0.0688295     -0.0688295  -0.0653899  -0.0615793\n",
       "  0.0538545   0.0573112   0.0604557  …  -0.0604557  -0.0573112  -0.0538545\n",
       "  0.0448464   0.0478116   0.0505257     -0.0505257  -0.0478116  -0.0448464\n",
       "  0.0347136   0.037062    0.0392217     -0.0392217  -0.037062   -0.0347136\n",
       "  ⋮                                  ⋱                           ⋮\n",
       " -0.0448464  -0.0478116  -0.0505257      0.0505257   0.0478116   0.0448464\n",
       " -0.0538545  -0.0573112  -0.0604557  …   0.0604557   0.0573112   0.0538545\n",
       " -0.0615793  -0.0653899  -0.0688295      0.0688295   0.0653899   0.0615793\n",
       " -0.0679264  -0.0719504  -0.0755479      0.0755479   0.0719504   0.0679264\n",
       " -0.0728643  -0.0769666  -0.0805918      0.0805918   0.0769666   0.0728643\n",
       " -0.0764183  -0.0804764  -0.084013       0.084013    0.0804764   0.0764183\n",
       " -0.0786616  -0.0825705  -0.0859211  …   0.0859211   0.0825705   0.0786616\n",
       " -0.0797042  -0.0833795  -0.0864682      0.0864682   0.0833795   0.0797042\n",
       " -0.0796813  -0.0830603  -0.0858333      0.0858333   0.0830603   0.0796813\n",
       " -0.0787425  -0.0817833  -0.0842077      0.0842077   0.0817833   0.0787425\n",
       " -0.0770416  -0.0797215  -0.0817833      0.0817833   0.0797215   0.0770416\n",
       " -0.0747293  -0.0770416  -0.0787425  …   0.0787425   0.0770416   0.0747293\n",
       "\n",
       "[:, :, 2] =\n",
       "  0.0832965   0.0862615   0.0885653  …  -0.0885653  -0.0862615  -0.0832965\n",
       "  0.0862615   0.0896977   0.0924693     -0.0924693  -0.0896977  -0.0862615\n",
       "  0.0885653   0.0924693   0.0957152     -0.0957152  -0.0924693  -0.0885653\n",
       "  0.0900251   0.0943727   0.0980793     -0.0980793  -0.0943727  -0.0900251\n",
       "  0.0904505   0.0951925   0.0993214     -0.0993214  -0.0951925  -0.0904505\n",
       "  0.0896526   0.094712    0.0991963  …  -0.0991963  -0.094712   -0.0896526\n",
       "  0.0874564   0.0927269   0.0974692     -0.0974692  -0.0927269  -0.0874564\n",
       "  0.0837149   0.0890613   0.0939338     -0.0939338  -0.0890613  -0.0837149\n",
       "  0.0783241   0.0835861   0.0884335     -0.0884335  -0.0835861  -0.0783241\n",
       "  0.0712377   0.0762365   0.0808828     -0.0808828  -0.0762365  -0.0712377\n",
       "  0.0624803   0.0670276   0.0712855  …  -0.0712855  -0.0670276  -0.0624803\n",
       "  0.0521554   0.0560658   0.0597485     -0.0597485  -0.0560658  -0.0521554\n",
       "  0.0404491   0.0435523   0.0464878     -0.0464878  -0.0435523  -0.0404491\n",
       "  ⋮                                  ⋱                           ⋮\n",
       " -0.0521554  -0.0560658  -0.0597485      0.0597485   0.0560658   0.0521554\n",
       " -0.0624803  -0.0670276  -0.0712855  …   0.0712855   0.0670276   0.0624803\n",
       " -0.0712377  -0.0762365  -0.0808828      0.0808828   0.0762365   0.0712377\n",
       " -0.0783241  -0.0835861  -0.0884335      0.0884335   0.0835861   0.0783241\n",
       " -0.0837149  -0.0890613  -0.0939338      0.0939338   0.0890613   0.0837149\n",
       " -0.0874564  -0.0927269  -0.0974692      0.0974692   0.0927269   0.0874564\n",
       " -0.0896526  -0.094712   -0.0991963  …   0.0991963   0.094712    0.0896526\n",
       " -0.0904505  -0.0951925  -0.0993214      0.0993214   0.0951925   0.0904505\n",
       " -0.0900251  -0.0943727  -0.0980793      0.0980793   0.0943727   0.0900251\n",
       " -0.0885653  -0.0924693  -0.0957152      0.0957152   0.0924693   0.0885653\n",
       " -0.0862615  -0.0896977  -0.0924693      0.0924693   0.0896977   0.0862615\n",
       " -0.0832965  -0.0862615  -0.0885653  …   0.0885653   0.0862615   0.0832965\n",
       "\n",
       "[:, :, 3] =\n",
       "  0.0925969   0.0963374   0.0993724  …  -0.0993724  -0.0963374  -0.0925969\n",
       "  0.0963374   0.100679    0.104318      -0.104318   -0.100679   -0.0963374\n",
       "  0.0993724   0.104318    0.108575      -0.108575   -0.104318   -0.0993724\n",
       "  0.101482    0.107007    0.111873      -0.111873   -0.107007   -0.101482\n",
       "  0.102431    0.108481    0.113911      -0.113911   -0.108481   -0.102431\n",
       "  0.101985    0.108466    0.11438    …  -0.11438    -0.108466   -0.101985\n",
       "  0.0999179   0.106697    0.112972      -0.112972   -0.106697   -0.0999179\n",
       "  0.0960361   0.102942    0.109411      -0.109411   -0.102942   -0.0960361\n",
       "  0.0901945   0.0970184   0.103477      -0.103477   -0.0970184  -0.0901945\n",
       "  0.0823179   0.0888244   0.0950362     -0.0950362  -0.0888244  -0.0823179\n",
       "  0.0724181   0.0783567   0.0840666  …  -0.0840666  -0.0783567  -0.0724181\n",
       "  0.0606065   0.0657278   0.0706796     -0.0706796  -0.0657278  -0.0606065\n",
       "  0.0470999   0.0511733   0.0551289     -0.0551289  -0.0511733  -0.0470999\n",
       "  ⋮                                  ⋱                           ⋮\n",
       " -0.0606065  -0.0657278  -0.0706796      0.0706796   0.0657278   0.0606065\n",
       " -0.0724181  -0.0783567  -0.0840666  …   0.0840666   0.0783567   0.0724181\n",
       " -0.0823179  -0.0888244  -0.0950362      0.0950362   0.0888244   0.0823179\n",
       " -0.0901945  -0.0970184  -0.103477       0.103477    0.0970184   0.0901945\n",
       " -0.0960361  -0.102942   -0.109411       0.109411    0.102942    0.0960361\n",
       " -0.0999179  -0.106697   -0.112972       0.112972    0.106697    0.0999179\n",
       " -0.101985   -0.108466   -0.11438    …   0.11438     0.108466    0.101985\n",
       " -0.102431   -0.108481   -0.113911       0.113911    0.108481    0.102431\n",
       " -0.101482   -0.107007   -0.111873       0.111873    0.107007    0.101482\n",
       " -0.0993724  -0.104318   -0.108575       0.108575    0.104318    0.0993724\n",
       " -0.0963374  -0.100679   -0.104318       0.104318    0.100679    0.0963374\n",
       " -0.0925969  -0.0963374  -0.0993724  …   0.0993724   0.0963374   0.0925969\n",
       "\n",
       ";;; … \n",
       "\n",
       "[:, :, 29] =\n",
       "  0.0925969   0.0963374   0.0993724  …  -0.0993724  -0.0963374  -0.0925969\n",
       "  0.0963374   0.100679    0.104318      -0.104318   -0.100679   -0.0963374\n",
       "  0.0993724   0.104318    0.108575      -0.108575   -0.104318   -0.0993724\n",
       "  0.101482    0.107007    0.111873      -0.111873   -0.107007   -0.101482\n",
       "  0.102431    0.108481    0.113911      -0.113911   -0.108481   -0.102431\n",
       "  0.101985    0.108466    0.11438    …  -0.11438    -0.108466   -0.101985\n",
       "  0.0999179   0.106697    0.112972      -0.112972   -0.106697   -0.0999179\n",
       "  0.0960361   0.102942    0.109411      -0.109411   -0.102942   -0.0960361\n",
       "  0.0901945   0.0970184   0.103477      -0.103477   -0.0970184  -0.0901945\n",
       "  0.0823179   0.0888244   0.0950362     -0.0950362  -0.0888244  -0.0823179\n",
       "  0.0724181   0.0783567   0.0840666  …  -0.0840666  -0.0783567  -0.0724181\n",
       "  0.0606065   0.0657278   0.0706796     -0.0706796  -0.0657278  -0.0606065\n",
       "  0.0470999   0.0511733   0.0551289     -0.0551289  -0.0511733  -0.0470999\n",
       "  ⋮                                  ⋱                           ⋮\n",
       " -0.0606065  -0.0657278  -0.0706796      0.0706796   0.0657278   0.0606065\n",
       " -0.0724181  -0.0783567  -0.0840666  …   0.0840666   0.0783567   0.0724181\n",
       " -0.0823179  -0.0888244  -0.0950362      0.0950362   0.0888244   0.0823179\n",
       " -0.0901945  -0.0970184  -0.103477       0.103477    0.0970184   0.0901945\n",
       " -0.0960361  -0.102942   -0.109411       0.109411    0.102942    0.0960361\n",
       " -0.0999179  -0.106697   -0.112972       0.112972    0.106697    0.0999179\n",
       " -0.101985   -0.108466   -0.11438    …   0.11438     0.108466    0.101985\n",
       " -0.102431   -0.108481   -0.113911       0.113911    0.108481    0.102431\n",
       " -0.101482   -0.107007   -0.111873       0.111873    0.107007    0.101482\n",
       " -0.0993724  -0.104318   -0.108575       0.108575    0.104318    0.0993724\n",
       " -0.0963374  -0.100679   -0.104318       0.104318    0.100679    0.0963374\n",
       " -0.0925969  -0.0963374  -0.0993724  …   0.0993724   0.0963374   0.0925969\n",
       "\n",
       "[:, :, 30] =\n",
       "  0.0832965   0.0862615   0.0885653  …  -0.0885653  -0.0862615  -0.0832965\n",
       "  0.0862615   0.0896977   0.0924693     -0.0924693  -0.0896977  -0.0862615\n",
       "  0.0885653   0.0924693   0.0957152     -0.0957152  -0.0924693  -0.0885653\n",
       "  0.0900251   0.0943727   0.0980793     -0.0980793  -0.0943727  -0.0900251\n",
       "  0.0904505   0.0951925   0.0993214     -0.0993214  -0.0951925  -0.0904505\n",
       "  0.0896526   0.094712    0.0991963  …  -0.0991963  -0.094712   -0.0896526\n",
       "  0.0874564   0.0927269   0.0974692     -0.0974692  -0.0927269  -0.0874564\n",
       "  0.0837149   0.0890613   0.0939338     -0.0939338  -0.0890613  -0.0837149\n",
       "  0.0783241   0.0835861   0.0884335     -0.0884335  -0.0835861  -0.0783241\n",
       "  0.0712377   0.0762365   0.0808828     -0.0808828  -0.0762365  -0.0712377\n",
       "  0.0624803   0.0670276   0.0712855  …  -0.0712855  -0.0670276  -0.0624803\n",
       "  0.0521554   0.0560658   0.0597485     -0.0597485  -0.0560658  -0.0521554\n",
       "  0.0404491   0.0435523   0.0464878     -0.0464878  -0.0435523  -0.0404491\n",
       "  ⋮                                  ⋱                           ⋮\n",
       " -0.0521554  -0.0560658  -0.0597485      0.0597485   0.0560658   0.0521554\n",
       " -0.0624803  -0.0670276  -0.0712855  …   0.0712855   0.0670276   0.0624803\n",
       " -0.0712377  -0.0762365  -0.0808828      0.0808828   0.0762365   0.0712377\n",
       " -0.0783241  -0.0835861  -0.0884335      0.0884335   0.0835861   0.0783241\n",
       " -0.0837149  -0.0890613  -0.0939338      0.0939338   0.0890613   0.0837149\n",
       " -0.0874564  -0.0927269  -0.0974692      0.0974692   0.0927269   0.0874564\n",
       " -0.0896526  -0.094712   -0.0991963  …   0.0991963   0.094712    0.0896526\n",
       " -0.0904505  -0.0951925  -0.0993214      0.0993214   0.0951925   0.0904505\n",
       " -0.0900251  -0.0943727  -0.0980793      0.0980793   0.0943727   0.0900251\n",
       " -0.0885653  -0.0924693  -0.0957152      0.0957152   0.0924693   0.0885653\n",
       " -0.0862615  -0.0896977  -0.0924693      0.0924693   0.0896977   0.0862615\n",
       " -0.0832965  -0.0862615  -0.0885653  …   0.0885653   0.0862615   0.0832965\n",
       "\n",
       "[:, :, 31] =\n",
       "  0.0747293   0.0770416   0.0787425  …  -0.0787425  -0.0770416  -0.0747293\n",
       "  0.0770416   0.0797215   0.0817833     -0.0817833  -0.0797215  -0.0770416\n",
       "  0.0787425   0.0817833   0.0842077     -0.0842077  -0.0817833  -0.0787425\n",
       "  0.0796813   0.0830603   0.0858333     -0.0858333  -0.0830603  -0.0796813\n",
       "  0.0797042   0.0833795   0.0864682     -0.0864682  -0.0833795  -0.0797042\n",
       "  0.0786616   0.0825705   0.0859211  …  -0.0859211  -0.0825705  -0.0786616\n",
       "  0.0764183   0.0804764   0.084013      -0.084013   -0.0804764  -0.0764183\n",
       "  0.0728643   0.0769666   0.0805918     -0.0805918  -0.0769666  -0.0728643\n",
       "  0.0679264   0.0719504   0.0755479     -0.0755479  -0.0719504  -0.0679264\n",
       "  0.0615793   0.0653899   0.0688295     -0.0688295  -0.0653899  -0.0615793\n",
       "  0.0538545   0.0573112   0.0604557  …  -0.0604557  -0.0573112  -0.0538545\n",
       "  0.0448464   0.0478116   0.0505257     -0.0505257  -0.0478116  -0.0448464\n",
       "  0.0347136   0.037062    0.0392217     -0.0392217  -0.037062   -0.0347136\n",
       "  ⋮                                  ⋱                           ⋮\n",
       " -0.0448464  -0.0478116  -0.0505257      0.0505257   0.0478116   0.0448464\n",
       " -0.0538545  -0.0573112  -0.0604557  …   0.0604557   0.0573112   0.0538545\n",
       " -0.0615793  -0.0653899  -0.0688295      0.0688295   0.0653899   0.0615793\n",
       " -0.0679264  -0.0719504  -0.0755479      0.0755479   0.0719504   0.0679264\n",
       " -0.0728643  -0.0769666  -0.0805918      0.0805918   0.0769666   0.0728643\n",
       " -0.0764183  -0.0804764  -0.084013       0.084013    0.0804764   0.0764183\n",
       " -0.0786616  -0.0825705  -0.0859211  …   0.0859211   0.0825705   0.0786616\n",
       " -0.0797042  -0.0833795  -0.0864682      0.0864682   0.0833795   0.0797042\n",
       " -0.0796813  -0.0830603  -0.0858333      0.0858333   0.0830603   0.0796813\n",
       " -0.0787425  -0.0817833  -0.0842077      0.0842077   0.0817833   0.0787425\n",
       " -0.0770416  -0.0797215  -0.0817833      0.0817833   0.0797215   0.0770416\n",
       " -0.0747293  -0.0770416  -0.0787425  …   0.0787425   0.0770416   0.0747293"
      ]
     },
     "execution_count": 409,
     "metadata": {},
     "output_type": "execute_result"
    }
   ],
   "source": [
    "U[3,:,:,:]"
   ]
  },
  {
   "cell_type": "code",
   "execution_count": 404,
   "id": "744386c5",
   "metadata": {},
   "outputs": [
    {
     "name": "stderr",
     "output_type": "stream",
     "text": [
      "WARNING: using Makie.Quaternion in module Main conflicts with an existing identifier.\n"
     ]
    }
   ],
   "source": [
    "using Makie\n",
    "using CairoMakie"
   ]
  },
  {
   "cell_type": "code",
   "execution_count": 430,
   "id": "111fa428",
   "metadata": {},
   "outputs": [
    {
     "data": {
      "image/png": "[encoded data removed]"
     },
     "execution_count": 430,
     "metadata": {},
     "output_type": "execute_result"
    },
    {
     "name": "stderr",
     "output_type": "stream",
     "text": [
      "\u001b[33m\u001b[1m┌ \u001b[22m\u001b[39m\u001b[33m\u001b[1mWarning: \u001b[22m\u001b[39mVolume{Tuple{IntervalSets.ClosedInterval{Float32}, IntervalSets.ClosedInterval{Float32}, IntervalSets.ClosedInterval{Float32}, Array{Float32, 3}}} is not supported by cairo right now\n",
      "\u001b[33m\u001b[1m└ \u001b[22m\u001b[39m\u001b[90m@ CairoMakie ~/.julia/packages/CairoMakie/0TD4G/src/infrastructure.jl:156\u001b[39m\n"
     ]
    }
   ],
   "source": [
    "volume(U[3,:,:,:])#,algorithm = :iso)#, isorange = 1.0, isovalue = -0.3)"
   ]
  },
  {
   "cell_type": "code",
   "execution_count": null,
   "id": "7e2a8add",
   "metadata": {},
   "outputs": [],
   "source": []
  }
 ],
 "metadata": {
  "kernelspec": {
   "display_name": "Julia 1.8.5",
   "language": "julia",
   "name": "julia-1.8"
  },
  "language_info": {
   "file_extension": ".jl",
   "mimetype": "application/julia",
   "name": "julia",
   "version": "1.8.5"
  }
 },
 "nbformat": 4,
 "nbformat_minor": 5
}
