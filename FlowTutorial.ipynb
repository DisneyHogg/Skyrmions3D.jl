{
 "cells": [
  {
   "cell_type": "code",
   "execution_count": null,
   "id": "0714c2b0",
   "metadata": {},
   "outputs": [],
   "source": [
    "#= Hello.\n",
    "\n",
    "Let me introduce you to some new features of the Skyrmions3D package. I've also updated the names of some things. First, the pion field field of your Skyrmion is now called pion_field. So you can explore the field by running Skyrmion.pion_field. The rational map function is now called makeRationalMap, insteadof makeRM.\n",
    "\n",
    "Let's import the Skyrmions3D and GLMakie packages and try and convince VScode/Jupyter notebook to *use* GLMakie (ie put plots in a pop-out box)\n",
    "\n",
    "=# "
   ]
  },
  {
   "cell_type": "code",
   "execution_count": null,
   "id": "0fab921d",
   "metadata": {},
   "outputs": [],
   "source": [
    "]add https://github.com/chrishalcrow/Skyrmions3D.jl.git"
   ]
  },
  {
   "cell_type": "code",
   "execution_count": null,
   "id": "1b1ba817",
   "metadata": {},
   "outputs": [],
   "source": [
    "using Skyrmions\n",
    "using GLMakie\n",
    "GLMakie.activate!()\n",
    "Makie.inline!(false)"
   ]
  },
  {
   "cell_type": "code",
   "execution_count": null,
   "id": "b5c5d4bd",
   "metadata": {},
   "outputs": [],
   "source": [
    "# Now let's make a skyrmion, and have a look at it\n",
    "\n",
    "my_skyrmion = Skyrmion(40, 0.2)\n",
    "\n",
    "p4(z) = z^4 + 3.0*sqrt(3.0)*im*z^2 + 1.0\n",
    "q4(z) = z^4 - 3.0*sqrt(3.0)*im*z^2 + 1.0\n",
    "f4(r) = pi*exp( -(r.^3)./12.0 )\n",
    "\n",
    "makeRationalMap!(my_skyrmion, f4, p4, q4)\n",
    "\n",
    "# If this doesn't work, try display(GLMakie.Screen(),plot_baryon_density(my_skyrmion,iso_value=3.0) instead\n",
    "display(plot_baryon_density(my_skyrmion,iso_value=2.0))"
   ]
  },
  {
   "cell_type": "code",
   "execution_count": null,
   "id": "84d26dbe",
   "metadata": {},
   "outputs": [],
   "source": [
    "# We can alter some of the skyrmion's properties by as follows\n",
    "\n",
    "my_skyrmion.mpi = 1.0\n",
    "my_skyrmion.periodic = true\n",
    "Energy(my_skyrmion)\n",
    "\n",
    "# That's right, we can now study periodic skyrmions. You can always check all the available properties \n",
    "# of a `Skyrmion` struct by running `?Skyrmion'"
   ]
  },
  {
   "cell_type": "code",
   "execution_count": null,
   "id": "021cf1b8",
   "metadata": {},
   "outputs": [],
   "source": [
    "# There is also now some dynamics. There are *two* available functions. First, you can gradient flow:\n",
    "\n",
    "gradient_flow!(my_skyrmion, steps=100)\n",
    "Energy(my_skyrmion)"
   ]
  },
  {
   "cell_type": "code",
   "execution_count": null,
   "id": "74bc117b",
   "metadata": {},
   "outputs": [],
   "source": [
    "# Nice, our energy has gone down. With the gradient_flow! function, you can either flow for a fixed number \n",
    "# of steps, as above. Or you can run until your error function goes below some fixed tolerance. This can be \n",
    "# done by adding `tolerance = ??` instead of steps. For instance, the code below will only stop once the sum\n",
    "# of (dEdπ)^2 over all lattice sites is less than 1.0. I think the user should be allowed to pick their own \n",
    "# tolerance function. Any ideas of which ones are good, anyone?\n",
    "\n",
    "gradient_flow!(my_skyrmion, tolerance = 100.0)\n",
    "display(plot_baryon_density(my_skyrmion,iso_value=2.0))\n",
    "Energy(my_skyrmion)"
   ]
  },
  {
   "cell_type": "code",
   "execution_count": null,
   "id": "2de00f4b",
   "metadata": {},
   "outputs": [],
   "source": [
    "# Another option is to use Arrested Newton Flow. Here we solve ddot(π) = -dEdπ, but arrest the momentum if \n",
    "# the energy of the field increases. I also find it to converge faster if we apply a short gradient_flow \n",
    "# whenever we arrest. So, this isn't `pure` Arrested Newton Flow. We also need to supply an initial skyrmion\n",
    "# velocity:\n",
    "\n",
    "skd = zeros(my_skyrmion.lp[1], my_skyrmion.lp[2], my_skyrmion.lp[3], 4);\n",
    "arrested_newton_flow!(my_skyrmion, skd, tolerance = 1.0, print_stuff=true)\n",
    "display(plot_baryon_density(my_skyrmion,iso_value=4.0))\n",
    "Energy(my_skyrmion)"
   ]
  },
  {
   "cell_type": "code",
   "execution_count": null,
   "id": "6e961f3b",
   "metadata": {},
   "outputs": [],
   "source": [
    "# Cool. Another nice new feature is that we can resize the lattice. Suppose we're interested in the periodic \n",
    "# B=4 solution. We might want to squeeze the box a bit. We can do this using the resize_lattice! function\n",
    "\n",
    "resize_lattice!(my_skyrmion,[30,30,30],[0.2,0.2,0.2])\n",
    "\n",
    "# Let's flow again...\n",
    "\n",
    "skd = zeros(my_skyrmion.lp[1], my_skyrmion.lp[2], my_skyrmion.lp[3], 4);\n",
    "arrested_newton_flow!(my_skyrmion, skd, steps=500, print_stuff=true)"
   ]
  },
  {
   "cell_type": "code",
   "execution_count": null,
   "id": "b5a6ce2c",
   "metadata": {},
   "outputs": [],
   "source": [
    "# But 0.2 lattice spacing is a bit big. Let's reduce it, but compensate with more points\n",
    "\n",
    "resize_lattice!(my_skyrmion,[60,60,60],[0.1,0.1,0.1])\n",
    "skd = zeros(my_skyrmion.lp[1], my_skyrmion.lp[2], my_skyrmion.lp[3], 4);\n",
    "arrested_newton_flow!(my_skyrmion, skd, tolerance = 10.0)\n",
    "plot_baryon_density(my_skyrmion,iso_value=3.0)"
   ]
  },
  {
   "cell_type": "code",
   "execution_count": null,
   "id": "79c85555",
   "metadata": {},
   "outputs": [],
   "source": [
    "# So, that's all good. But let's see something more FUN! I'll make a new skyrmion and start the function \n",
    "\n",
    "my_skyrmion = Skyrmion(40, 0.2, mpi=1.0, periodic=false);\n",
    "makeRationalMap!(my_skyrmion, f4, p4, q4)\n",
    "\n",
    "interactive_flow(my_skyrmion)"
   ]
  },
  {
   "cell_type": "code",
   "execution_count": null,
   "id": "7dd0790b",
   "metadata": {},
   "outputs": [],
   "source": []
  }
 ],
 "metadata": {
  "kernelspec": {
   "display_name": "Julia 1.9.0",
   "language": "julia",
   "name": "julia-1.9"
  },
  "language_info": {
   "file_extension": ".jl",
   "mimetype": "application/julia",
   "name": "julia",
   "version": "1.9.0"
  }
 },
 "nbformat": 4,
 "nbformat_minor": 5
}
