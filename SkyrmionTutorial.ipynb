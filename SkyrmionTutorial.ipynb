{
 "cells": [
  {
   "cell_type": "markdown",
   "id": "1b1aca1c",
   "metadata": {},
   "source": [
    "## Getting Started"
   ]
  },
  {
   "cell_type": "markdown",
   "id": "eeb569b7",
   "metadata": {},
   "source": [
    "Welcome to Jupyter notebook.\n",
    "\n",
    "Each block of text/code is contained in a cell. The active cell is the one where your cursor is active. You can run an active cell by pressing \"Shift + Enter\" while it is active.\n",
    "\n",
    "After you run a cell, the output is shown below it. You can rerun a cell as many times as you'd like. Try it out below"
   ]
  },
  {
   "cell_type": "code",
   "execution_count": null,
   "id": "c577d48e",
   "metadata": {},
   "outputs": [],
   "source": [
    "1 + 1"
   ]
  },
  {
   "cell_type": "markdown",
   "id": "b23fdf9f",
   "metadata": {},
   "source": [
    "If that's working, we can get started.\n",
    "\n",
    "First, you need to install the Skyrmions3D package on your computer. This will take a long time (15 minutes) the first time you do it because it needs to install all the other packages Skyrmions3D relies on. The second time you do this, it will take less time (1 minute).\n",
    "\n",
    "Once it becomes a real \"Package\" this step will take no time."
   ]
  },
  {
   "cell_type": "code",
   "execution_count": null,
   "id": "c43a330a",
   "metadata": {},
   "outputs": [],
   "source": [
    "]add https://github.com/chrishalcrow/Skyrmions3D.jl.git"
   ]
  },
  {
   "cell_type": "markdown",
   "id": "b11d56c9",
   "metadata": {},
   "source": [
    "We'll also install the Package `GLMakie`, which is the Open __GL__ version of the software __Makie__. This will be used for plotting and for quaternionic algebra (plotting packages use quaternions for camera angles etc)"
   ]
  },
  {
   "cell_type": "code",
   "execution_count": null,
   "id": "c85d4832",
   "metadata": {},
   "outputs": [],
   "source": [
    "]add GLMakie"
   ]
  },
  {
   "cell_type": "markdown",
   "id": "89a4e724",
   "metadata": {},
   "source": [
    "Now that the `Skyrmions` and `GLMakie` packages are installed, we need to tell this notebook to use them. Again, this will take a little time (~1 minute). We also activate GLMakie (which overwrites an default option)"
   ]
  },
  {
   "cell_type": "code",
   "execution_count": null,
   "id": "cd528be0",
   "metadata": {},
   "outputs": [],
   "source": [
    "using Skyrmions\n",
    "using GLMakie\n",
    "GLMakie.activate!()"
   ]
  },
  {
   "cell_type": "markdown",
   "id": "c15c4c67",
   "metadata": {},
   "source": [
    "That's the hard part done.\n",
    "\n",
    "Let's make an initial Skyrme field.\n",
    "\n",
    "In this code, your skyrmion object contains more than just the skyrme field. It also contains the grid you made the skyrmion on (and will contain the model parameters). So when you initialise the skyrmion you need to specify a grid. You can do this by running\n",
    "\n",
    "my_skyrmion = Skyrmion( number_of_lattice_points, lattice_spacing  )\n",
    "\n",
    "(note: for unequal numbers of points, just use e.g. Skyrmion( [30,30,60], [0.2,0.2,0.2] )  )\n",
    "\n",
    "Like so:"
   ]
  },
  {
   "cell_type": "code",
   "execution_count": null,
   "id": "18d824ea",
   "metadata": {},
   "outputs": [],
   "source": [
    "my_skyrmion = Skyrmion(40, 0.2);"
   ]
  },
  {
   "cell_type": "markdown",
   "id": "128d65cd",
   "metadata": {},
   "source": [
    "That's a lot of output! You can tell Jupyter to not print the output of a cell by putting a semi-colon at the end of a line. Try putting ; at the end of the code above and re-run the code.\n",
    "\n",
    "Now that we've made an empty Skyrme field, we need to fill it. One option is to use the Rational Map approx. For this, we need to specify a Rational Map and a profile funciton.\n",
    "\n",
    "My implementation takes in two complex functions p(z), q(z) which are the numerator and denominantor of the rational map R(z) = p(z)/q(z) and a profile function f(r). Let's see an example:\n"
   ]
  },
  {
   "cell_type": "code",
   "execution_count": null,
   "id": "54e1a3fc",
   "metadata": {},
   "outputs": [],
   "source": [
    "# A rational map and profile function\n",
    "\n",
    "p4(z) = z^4 + 2.0*sqrt(3.0)*im*z^2 + 1.0\n",
    "q4(z) = z^4 - 2.0*sqrt(3.0)*im*z^2 + 1.0\n",
    "f4(r) = pi*exp( -(r.^3)./12.0 )"
   ]
  },
  {
   "cell_type": "code",
   "execution_count": null,
   "id": "49ffba96",
   "metadata": {},
   "outputs": [],
   "source": [
    "makeRM!(my_skyrmion, f4, p4, q4)"
   ]
  },
  {
   "cell_type": "markdown",
   "id": "7d068f69",
   "metadata": {},
   "source": [
    "A couple of notes: functions with an exclamation point(!) are modifying functions. So here, makeRM! is modifying the previously-intialised field \"my_skyrmion\"\n",
    "\n",
    "We can find some properties of the newly created skyrmion:"
   ]
  },
  {
   "cell_type": "code",
   "execution_count": null,
   "id": "faa975e5",
   "metadata": {},
   "outputs": [],
   "source": [
    "Energy(my_skyrmion)"
   ]
  },
  {
   "cell_type": "code",
   "execution_count": null,
   "id": "0ff2ca65",
   "metadata": {},
   "outputs": [],
   "source": [
    "Baryon(my_skyrmion)"
   ]
  },
  {
   "cell_type": "markdown",
   "id": "fa7fb70c",
   "metadata": {},
   "source": [
    "Note, the pion mass (in dimensionless units) is stored within your skyrmion. You can change it as follows:\n",
    "(and then calculate the Energy to see the difference)"
   ]
  },
  {
   "cell_type": "code",
   "execution_count": null,
   "id": "d41815f3",
   "metadata": {},
   "outputs": [],
   "source": [
    "my_skyrmion.mpi = 1.0\n",
    "Energy(my_skyrmion)"
   ]
  },
  {
   "cell_type": "markdown",
   "id": "475aab19",
   "metadata": {},
   "source": [
    "## Plotting"
   ]
  },
  {
   "cell_type": "markdown",
   "id": "02b89a1d",
   "metadata": {},
   "source": [
    "Nice!\n",
    "\n",
    "We can now plot it to take a look. Note: the first time you do this, Julia compiles the plotting functions. This can take some time (~1 minute), but will only happen the first time you plot.\n",
    "\n",
    "What happens when you run the next line might depend on your operating system. I _think_ a static image should appear. Have a go."
   ]
  },
  {
   "cell_type": "code",
   "execution_count": null,
   "id": "7faba67b",
   "metadata": {},
   "outputs": [],
   "source": [
    "plot_baryon_density(my_skyrmion)"
   ]
  },
  {
   "cell_type": "markdown",
   "id": "1687346a",
   "metadata": {},
   "source": [
    "We can make this plot _interactive_ by putting it in an external window. We do this by _displaying_ the plot in a new `Screen`:"
   ]
  },
  {
   "cell_type": "code",
   "execution_count": null,
   "id": "b03b59b4",
   "metadata": {},
   "outputs": [],
   "source": [
    "display(GLMakie.Screen(),plot_baryon_density(my_skyrmion))"
   ]
  },
  {
   "cell_type": "markdown",
   "id": "877e5666",
   "metadata": {},
   "source": [
    "If that worked... great! If not, please get in touch.\n",
    "\n",
    "On Linux and MacOS, you can run the function `Makie.inline!(false)` which makes making a new window the default option. Then you don't need to write `GLMakie.Screen()` every time you want to make an interactive plot. This does not seem to work on Windows. So we'll include it during this tutorial. Annoyingly, this creates a new window _every time_ you plot. This can become a bit overwhelming. The inline option also seems to work when using terminal or VSCode. If you're using this code seriously, I would recommend getting VSCode running. The initial set up is a little more complciated than Jupyter notebook, but it's worth it!\n",
    "\n",
    "The baryon density plotting function can take in any arguments which are used in the `Axis3` method from Makie. So, for example, we can change the aspect ratio, add a title and get rid of the box:"
   ]
  },
  {
   "cell_type": "code",
   "execution_count": null,
   "id": "bec436f3",
   "metadata": {},
   "outputs": [],
   "source": [
    "display(GLMakie.Screen(),plot_baryon_density(my_skyrmion,iso_value=0.5, title=\"A B=4 skyrmion\", aspect=(1.0,1.0,2.0), xlabel=\"the x-axis\", xspinesvisible=false, yspinesvisible=false, zspinesvisible=false ) )"
   ]
  },
  {
   "cell_type": "markdown",
   "id": "0a4c964c",
   "metadata": {},
   "source": [
    "You can check out more options here: https://docs.makie.org/stable/examples/blocks/axis3/\n",
    "\n",
    "You can even use LaTeX, if you add the LatexString package"
   ]
  },
  {
   "cell_type": "code",
   "execution_count": null,
   "id": "37001c4b",
   "metadata": {},
   "outputs": [],
   "source": [
    "]add LaTeXStrings"
   ]
  },
  {
   "cell_type": "code",
   "execution_count": null,
   "id": "5be2f690",
   "metadata": {},
   "outputs": [],
   "source": [
    "using LaTeXStrings\n",
    "\n",
    "display(GLMakie.Screen(),plot_baryon_density(my_skyrmion,iso_value=0.5,title=L\"\\text{A } B=4 \\text{ skyrmion}\" ) )"
   ]
  },
  {
   "cell_type": "markdown",
   "id": "94b2a7d9",
   "metadata": {},
   "source": [
    "You can also export images of the plot using the `save` funtion. The `px_per_unit` controls the pixel density (and hence the quality and size of the exported file)"
   ]
  },
  {
   "cell_type": "code",
   "execution_count": null,
   "id": "54de5672",
   "metadata": {},
   "outputs": [],
   "source": [
    "save(\"B4_plot.png\",plot_baryon_density(my_skyrmion,azimuth=0.5,elevation=0.5), px_per_unit=2)"
   ]
  },
  {
   "cell_type": "markdown",
   "id": "1b339358",
   "metadata": {},
   "source": [
    "## Transformations -- translations, rotations, isorotations and products"
   ]
  },
  {
   "cell_type": "markdown",
   "id": "beaf1ed3",
   "metadata": {},
   "source": [
    "We can apply simple transformations to the skyrmions using translate_sk!, rotate_sk! and isorotate_sk!. These ! functions modifiy the initial skyrmion. If you'd like to make a brand new skyrmion, you should use the !-less version of the function.\n",
    "    \n",
    "Below are some examples:"
   ]
  },
  {
   "cell_type": "code",
   "execution_count": null,
   "id": "57b533d3",
   "metadata": {},
   "outputs": [],
   "source": [
    "# Rotations and isorotations use \"angle-axis\" notation\n",
    "# Note: we (currently) rotate around the origin, so it's best to rotate first.\n",
    "\n",
    "rotate_sk!(my_skyrmion, pi/4, [1.0,1.0,0.0] )\n",
    "translate_sk!(my_skyrmion,[1.0,-1.0,1.0])\n",
    "isorotate_sk!(my_skyrmion, pi/2, [-2.0,1.0,1.0] )\n",
    "\n",
    "\n",
    "display(GLMakie.Screen(),plot_baryon_density(my_skyrmion,iso_value=0.5))"
   ]
  },
  {
   "cell_type": "code",
   "execution_count": null,
   "id": "2c37bbbf",
   "metadata": {},
   "outputs": [],
   "source": [
    "# or we can make a new skyrmion from old (let's re-initialise the B=4 RM skyrmion first)\n",
    "\n",
    "makeRM!(my_skyrmion, f4, p4, q4)\n",
    "\n",
    "translated_skyrmion = translate_sk(my_skyrmion, [1.0,0.0,0.0]) \n",
    "\n",
    "display(GLMakie.Screen(),plot_baryon_density(translated_skyrmion,iso_value=0.5))"
   ]
  },
  {
   "cell_type": "code",
   "execution_count": null,
   "id": "6324c956",
   "metadata": {},
   "outputs": [],
   "source": [
    "# we can even check the center of mass\n",
    "center_of_mass(translated_skyrmion)"
   ]
  },
  {
   "cell_type": "markdown",
   "id": "043ab5d3",
   "metadata": {},
   "source": [
    "There are now two active skyrmions: my_skyrmion and translated_skyrmion. We can combine the skyrmions using the product approximation through the `product_approx` function. Let's try and make a twisted cube. This is made from two B=4 cubes, one rotated by 90 degrees with respect to the other.\n",
    "\n",
    "To make this easier, let's start from the beginning. We're making a B=8 skyrmion, so let's use a slightly longer grid in the x-direction. First make the initial skyrmion and the translated skyrmion:"
   ]
  },
  {
   "cell_type": "code",
   "execution_count": null,
   "id": "3d8f2511",
   "metadata": {},
   "outputs": [],
   "source": [
    "my_skyrmion = Skyrmion([60,40,40],[0.2,0.2,0.2])\n",
    "makeRM!(my_skyrmion, f4, p4, q4)\n",
    "translated_skyrmion = translate_sk(my_skyrmion, [2.0,0.0,0.0]) \n",
    "\n",
    "# Then translate the original skyrmion in the other direction, and rotate it by pi/2 around the x-axis\n",
    "\n",
    "rotate_sk!(my_skyrmion, pi/2, [1.0,0.0,0.0] )\n",
    "translate_sk!(my_skyrmion, [-2.0,0.0,0.0])\n",
    "\n",
    "# Having generated the two skyrmions we can combine them using the Product function\n",
    "\n",
    "B8_product_skyrmion = product_approx(my_skyrmion, translated_skyrmion);"
   ]
  },
  {
   "cell_type": "code",
   "execution_count": null,
   "id": "b18e2ade",
   "metadata": {},
   "outputs": [],
   "source": [
    "# ... and plot it\n",
    "display(GLMakie.Screen(),plot_baryon_density(B8_product_skyrmion,iso_value=1.0))"
   ]
  },
  {
   "cell_type": "markdown",
   "id": "3db38596",
   "metadata": {},
   "source": [
    "The code features another way to do this, starting from Rational Maps. We can give a list of RM functions, positions, iso-orientations and orientations to the function make_RM_product!\n",
    "\n",
    "Now that the skyrmions are getting more complicated, so is the notation. We can get some help using the help function. This works by sticking a `?` infront of the function"
   ]
  },
  {
   "cell_type": "code",
   "execution_count": null,
   "id": "2927e8c5",
   "metadata": {},
   "outputs": [],
   "source": [
    "?make_RM_product!"
   ]
  },
  {
   "cell_type": "markdown",
   "id": "22efaa5c",
   "metadata": {},
   "source": [
    "Hopefully, based on the help you can figure out how to use the function. Here's the code which generates the twisted B=8:"
   ]
  },
  {
   "cell_type": "code",
   "execution_count": null,
   "id": "044ef147",
   "metadata": {},
   "outputs": [],
   "source": [
    "X_list = [ (f4, p4, q4, [2.2,0.0,0.0], 0.0, [0.0,0.0,1.0], 0.0, [0.0,0.0,0.0] ),\n",
    "    (f4, p4, q4, [-2.2,0.0,0.0], 0.0, [0.0,0.0,1.0], pi/2, [1.0,0.0,0.0] ) ]\n",
    "\n",
    "make_RM_product!(my_skyrmion,X_list)\n",
    "\n",
    "display(GLMakie.Screen(),plot_baryon_density(my_skyrmion,iso_value=0.5))"
   ]
  },
  {
   "cell_type": "markdown",
   "id": "90eac8a6",
   "metadata": {},
   "source": [
    "This is a lot less hectic than the other method. Hopefully, you can see how this can be generalise in many many ways! Try making a B=12 triangle, or a B=108 crystal!"
   ]
  },
  {
   "cell_type": "markdown",
   "id": "b65cf626",
   "metadata": {},
   "source": [
    "## ADHM construction"
   ]
  },
  {
   "cell_type": "markdown",
   "id": "03c6a279",
   "metadata": {},
   "source": [
    "Let's now try making a Skyrmion from ADHM data. To do this we'll use `Makie`'s internal `Quaternion` type. Here, a quaternion is created using Quaternion(i,j,k,1). Note: the real part is the LAST component.\n",
    "\n",
    "The `makeADHM!` function makes a skyrmion using `L` and `M`, a vector and matrix of quatenrions respectively. Here, we make a `B=2` torus. For some more ideas, you could have a look at this paper: https://arxiv.org/abs/2110.15190"
   ]
  },
  {
   "cell_type": "code",
   "execution_count": null,
   "id": "4ef0171e",
   "metadata": {},
   "outputs": [],
   "source": [
    "B=2\n",
    "\n",
    "L = [ Quaternion(0.0,0.0,0.0,0.0) for a in 1:B ]\n",
    "M = [ Quaternion(0.0,0.0,0.0,0.0) for a in 1:B, b in 1:B ]\n",
    "\n",
    "L[1] = Quaternion(0.0, 0.0, 0.0, sqrt(2.0))\n",
    "L[2] = Quaternion(0.0, 0.0, sqrt(2.0), 0.0)\n",
    "\n",
    "M[1,1] = Quaternion(1.0, 0.0, 0.0, 0.0)\n",
    "M[1,2] = Quaternion(0.0, 1.0, 0.0, 0.0)\n",
    "M[2,1] = Quaternion(0.0, 1.0, 0.0, 0.0)\n",
    "M[2,2] = Quaternion(-1.0, 0.0, 0.0, 0.0)\n",
    "\n",
    "    \n",
    "# The makeADHM! function is similar to the makeRM! function:\n",
    "\n",
    "makeADHM!(my_skyrmion,L,M)\n",
    "\n",
    "display(GLMakie.Screen(),plot_baryon_density(my_skyrmion, iso_value=1.5))"
   ]
  },
  {
   "cell_type": "markdown",
   "id": "c7dc1bd0",
   "metadata": {},
   "source": [
    "Now you can easily, e.g., change the iso-orientation of the Skyrmion by left multiplying L with a quaternion"
   ]
  },
  {
   "cell_type": "code",
   "execution_count": null,
   "id": "112f7939",
   "metadata": {},
   "outputs": [],
   "source": [
    "for a in 1:2\n",
    "    L[a] = Quaternion(0.0,sin(pi/4),0.0,cos(pi/4))*L[a]\n",
    "end\n",
    "\n",
    "makeADHM!(my_skyrmion,L,M)\n",
    "\n",
    "display(GLMakie.Screen(),plot_baryon_density(my_skyrmion, iso_value=1.5))"
   ]
  },
  {
   "cell_type": "code",
   "execution_count": null,
   "id": "fd5b3dd2",
   "metadata": {},
   "outputs": [],
   "source": [
    "# or we can make the entire skyrmion a bit bigger\n",
    "\n",
    "for a in 1:2\n",
    "    L[a] *= Quaternion(0.0,0.0,0.0,2.0)\n",
    "    for b in 1:2\n",
    "        M[a,b] *= Quaternion(0.0,0.0,0.0,2.0)\n",
    "    end \n",
    "end\n",
    "\n",
    "makeADHM!(my_skyrmion,L,M)\n",
    "\n",
    "#which requires a much smaller iso_value...\n",
    "display(GLMakie.Screen(),plot_baryon_density(my_skyrmion, iso_value=0.1))"
   ]
  },
  {
   "cell_type": "markdown",
   "id": "cc2293c4",
   "metadata": {},
   "source": [
    "## Physics"
   ]
  },
  {
   "cell_type": "markdown",
   "id": "affde3e9",
   "metadata": {},
   "source": [
    "Actual physics is crucial for skyrmion research. So we hope to include physics at the core of this package. Your physical units are stored in your `skyrmion` object. You can set them anytime:"
   ]
  },
  {
   "cell_type": "code",
   "execution_count": null,
   "id": "0eb90dff",
   "metadata": {},
   "outputs": [],
   "source": [
    "my_skyrmion.Fpi = 180\n",
    "my_skyrmion.ee = 3.2\n",
    "my_skyrmion.mpi = 1.0"
   ]
  },
  {
   "cell_type": "markdown",
   "id": "1bb83be1",
   "metadata": {},
   "source": [
    "Now that your skyrmion knows its physics, we can calculate the Energy in these units, by _turning physics on_."
   ]
  },
  {
   "cell_type": "code",
   "execution_count": null,
   "id": "9b15e96c",
   "metadata": {},
   "outputs": [],
   "source": [
    "turn_on_physical!(my_skyrmion)\n",
    "Energy(my_skyrmion)"
   ]
  },
  {
   "cell_type": "markdown",
   "id": "12d557f7",
   "metadata": {},
   "source": [
    "Now the result it written alongside the units of the object. More examples:"
   ]
  },
  {
   "cell_type": "code",
   "execution_count": null,
   "id": "25354daf",
   "metadata": {},
   "outputs": [],
   "source": [
    "getMOI(my_skyrmion)"
   ]
  },
  {
   "cell_type": "code",
   "execution_count": null,
   "id": "5ff74bc9",
   "metadata": {},
   "outputs": [],
   "source": [
    "rms_baryon(my_skyrmion)"
   ]
  },
  {
   "cell_type": "markdown",
   "id": "7ee52223",
   "metadata": {},
   "source": [
    "Note that you can go back to dimensionless units by running `turn_off_physical!(my_skyrmion)`\n",
    "\n",
    "Moments appear a lot in actual calculations, and are simple to calculate here:"
   ]
  },
  {
   "cell_type": "code",
   "execution_count": null,
   "id": "a02b89f7",
   "metadata": {},
   "outputs": [],
   "source": [
    "Energy(my_skyrmion, moment=2)"
   ]
  },
  {
   "cell_type": "code",
   "execution_count": null,
   "id": "f95f194b",
   "metadata": {},
   "outputs": [],
   "source": [
    "println(getMOI(my_skyrmion,moment=2))"
   ]
  },
  {
   "cell_type": "markdown",
   "id": "2ecf2c25",
   "metadata": {},
   "source": [
    "That's the end of this tutorial- you can now make your own notebook! Have fun, and please request features and report bugs to Chris."
   ]
  },
  {
   "cell_type": "code",
   "execution_count": null,
   "id": "a368dd57",
   "metadata": {},
   "outputs": [],
   "source": [
    "\n",
    "\n",
    "\n",
    "\n",
    "\n",
    "\n",
    "\n",
    "\n",
    "\n",
    "\n",
    "\n",
    "\n",
    "\n",
    "\n",
    "\n",
    "\n"
   ]
  }
 ],
 "metadata": {
  "kernelspec": {
   "display_name": "Julia 1.9.0",
   "language": "julia",
   "name": "julia-1.9"
  },
  "language_info": {
   "file_extension": ".jl",
   "mimetype": "application/julia",
   "name": "julia",
   "version": "1.9.0"
  }
 },
 "nbformat": 4,
 "nbformat_minor": 5
}
